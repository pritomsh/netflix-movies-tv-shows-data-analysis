{
 "cells": [
  {
   "cell_type": "markdown",
   "id": "071f85a6",
   "metadata": {},
   "source": [
    "\n",
    "<center>\n",
    "    <img src=\"https://github.com/pritomsh/netflix-movies-tv-shows-data-analysis/blob/master/netflix.jpeg?raw=true\" alt=\"Netflix Movies and TV Shows\" width=\"80%\">\n",
    "</center>\n",
    "<br>\n",
    "\n",
    "## <div style=\"font-family: Trebuchet MS; background-color: #BA1141; color: #FFFFFF; padding: 12px; line-height: 1.5;\">Dataset</div>\n",
    "<div style=\"font-family: Segoe UI; line-height: 2; color: #000000; text-align: justify\">\n",
    "👉 This dataset contains information about Netflix Movies and TV Shows.</div>\n",
    "👉 Data Set \n",
    "<a href=\"https://www.kaggle.com/datasets/shivamb/netflix-shows\">Link</a>\n",
    "\n",
    "## <div style=\"font-family: Trebuchet MS; background-color: #BA1141; color: #FFFFFF; padding: 12px; line-height: 1.5;\">Insight of Notebook 📌</div>\n",
    "<div style=\"font-family: Segoe UI; line-height: 2; color: #000000; text-align: justify\">\n",
    "    👉 <b>This notebook aims to:</b>\n",
    "    <ul>\n",
    "        <li> <mark><b>Show Type  content is available</b></mark> .</li>\n",
    "        <li> <mark><b>Top Five Rating Category</b></mark>.</li>\n",
    "        <li> <mark><b>Export prediction & best model</b></mark>.</li>\n",
    "        <li> <mark><b>Trand of  focus on TV Shows and movies in recent years.</b></mark>.</li>\n",
    "    </ul>\n",
    "</div>"
   ]
  },
  {
   "cell_type": "markdown",
   "id": "6e49a061",
   "metadata": {},
   "source": [
    "# <div style=\"font-family: Trebuchet MS; background-color: #6C935C; color: #FFFFFF; padding: 12px; line-height: 1.5;\">Importing Libraries</div>"
   ]
  },
  {
   "cell_type": "code",
   "execution_count": 1,
   "id": "715a955e",
   "metadata": {},
   "outputs": [],
   "source": [
    "import numpy as np\n",
    "import pandas as pd\n",
    "import cutecharts.charts as ctc\n",
    "from cutecharts.charts import Line\n",
    "from cutecharts.faker import Faker\n",
    "import matplotlib.pyplot as plt\n",
    "import warnings\n",
    "warnings.filterwarnings('ignore')"
   ]
  },
  {
   "cell_type": "code",
   "execution_count": 2,
   "id": "5d0eabe8",
   "metadata": {},
   "outputs": [],
   "source": [
    "data = pd.read_csv('data/netflix_titles.csv')"
   ]
  },
  {
   "cell_type": "code",
   "execution_count": 3,
   "id": "c6d87ac9",
   "metadata": {},
   "outputs": [
    {
     "name": "stdout",
     "output_type": "stream",
     "text": [
      "----------------------------------------\n",
      "\n",
      "Size of Netflix data is (8807, 12)\n",
      "\n",
      "----------------------------------------\n"
     ]
    },
    {
     "data": {
      "text/html": [
       "<div>\n",
       "<style scoped>\n",
       "    .dataframe tbody tr th:only-of-type {\n",
       "        vertical-align: middle;\n",
       "    }\n",
       "\n",
       "    .dataframe tbody tr th {\n",
       "        vertical-align: top;\n",
       "    }\n",
       "\n",
       "    .dataframe thead th {\n",
       "        text-align: right;\n",
       "    }\n",
       "</style>\n",
       "<table border=\"1\" class=\"dataframe\">\n",
       "  <thead>\n",
       "    <tr style=\"text-align: right;\">\n",
       "      <th></th>\n",
       "      <th>show_id</th>\n",
       "      <th>type</th>\n",
       "      <th>title</th>\n",
       "      <th>director</th>\n",
       "      <th>cast</th>\n",
       "      <th>country</th>\n",
       "      <th>date_added</th>\n",
       "      <th>release_year</th>\n",
       "      <th>rating</th>\n",
       "      <th>duration</th>\n",
       "      <th>listed_in</th>\n",
       "      <th>description</th>\n",
       "    </tr>\n",
       "  </thead>\n",
       "  <tbody>\n",
       "    <tr>\n",
       "      <th>0</th>\n",
       "      <td>s1</td>\n",
       "      <td>Movie</td>\n",
       "      <td>Dick Johnson Is Dead</td>\n",
       "      <td>Kirsten Johnson</td>\n",
       "      <td>NaN</td>\n",
       "      <td>United States</td>\n",
       "      <td>September 25, 2021</td>\n",
       "      <td>2020</td>\n",
       "      <td>PG-13</td>\n",
       "      <td>90 min</td>\n",
       "      <td>Documentaries</td>\n",
       "      <td>As her father nears the end of his life, filmm...</td>\n",
       "    </tr>\n",
       "    <tr>\n",
       "      <th>1</th>\n",
       "      <td>s2</td>\n",
       "      <td>TV Show</td>\n",
       "      <td>Blood &amp; Water</td>\n",
       "      <td>NaN</td>\n",
       "      <td>Ama Qamata, Khosi Ngema, Gail Mabalane, Thaban...</td>\n",
       "      <td>South Africa</td>\n",
       "      <td>September 24, 2021</td>\n",
       "      <td>2021</td>\n",
       "      <td>TV-MA</td>\n",
       "      <td>2 Seasons</td>\n",
       "      <td>International TV Shows, TV Dramas, TV Mysteries</td>\n",
       "      <td>After crossing paths at a party, a Cape Town t...</td>\n",
       "    </tr>\n",
       "    <tr>\n",
       "      <th>2</th>\n",
       "      <td>s3</td>\n",
       "      <td>TV Show</td>\n",
       "      <td>Ganglands</td>\n",
       "      <td>Julien Leclercq</td>\n",
       "      <td>Sami Bouajila, Tracy Gotoas, Samuel Jouy, Nabi...</td>\n",
       "      <td>NaN</td>\n",
       "      <td>September 24, 2021</td>\n",
       "      <td>2021</td>\n",
       "      <td>TV-MA</td>\n",
       "      <td>1 Season</td>\n",
       "      <td>Crime TV Shows, International TV Shows, TV Act...</td>\n",
       "      <td>To protect his family from a powerful drug lor...</td>\n",
       "    </tr>\n",
       "    <tr>\n",
       "      <th>3</th>\n",
       "      <td>s4</td>\n",
       "      <td>TV Show</td>\n",
       "      <td>Jailbirds New Orleans</td>\n",
       "      <td>NaN</td>\n",
       "      <td>NaN</td>\n",
       "      <td>NaN</td>\n",
       "      <td>September 24, 2021</td>\n",
       "      <td>2021</td>\n",
       "      <td>TV-MA</td>\n",
       "      <td>1 Season</td>\n",
       "      <td>Docuseries, Reality TV</td>\n",
       "      <td>Feuds, flirtations and toilet talk go down amo...</td>\n",
       "    </tr>\n",
       "    <tr>\n",
       "      <th>4</th>\n",
       "      <td>s5</td>\n",
       "      <td>TV Show</td>\n",
       "      <td>Kota Factory</td>\n",
       "      <td>NaN</td>\n",
       "      <td>Mayur More, Jitendra Kumar, Ranjan Raj, Alam K...</td>\n",
       "      <td>India</td>\n",
       "      <td>September 24, 2021</td>\n",
       "      <td>2021</td>\n",
       "      <td>TV-MA</td>\n",
       "      <td>2 Seasons</td>\n",
       "      <td>International TV Shows, Romantic TV Shows, TV ...</td>\n",
       "      <td>In a city of coaching centers known to train I...</td>\n",
       "    </tr>\n",
       "  </tbody>\n",
       "</table>\n",
       "</div>"
      ],
      "text/plain": [
       "  show_id     type                  title         director  \\\n",
       "0      s1    Movie   Dick Johnson Is Dead  Kirsten Johnson   \n",
       "1      s2  TV Show          Blood & Water              NaN   \n",
       "2      s3  TV Show              Ganglands  Julien Leclercq   \n",
       "3      s4  TV Show  Jailbirds New Orleans              NaN   \n",
       "4      s5  TV Show           Kota Factory              NaN   \n",
       "\n",
       "                                                cast        country  \\\n",
       "0                                                NaN  United States   \n",
       "1  Ama Qamata, Khosi Ngema, Gail Mabalane, Thaban...   South Africa   \n",
       "2  Sami Bouajila, Tracy Gotoas, Samuel Jouy, Nabi...            NaN   \n",
       "3                                                NaN            NaN   \n",
       "4  Mayur More, Jitendra Kumar, Ranjan Raj, Alam K...          India   \n",
       "\n",
       "           date_added  release_year rating   duration  \\\n",
       "0  September 25, 2021          2020  PG-13     90 min   \n",
       "1  September 24, 2021          2021  TV-MA  2 Seasons   \n",
       "2  September 24, 2021          2021  TV-MA   1 Season   \n",
       "3  September 24, 2021          2021  TV-MA   1 Season   \n",
       "4  September 24, 2021          2021  TV-MA  2 Seasons   \n",
       "\n",
       "                                           listed_in  \\\n",
       "0                                      Documentaries   \n",
       "1    International TV Shows, TV Dramas, TV Mysteries   \n",
       "2  Crime TV Shows, International TV Shows, TV Act...   \n",
       "3                             Docuseries, Reality TV   \n",
       "4  International TV Shows, Romantic TV Shows, TV ...   \n",
       "\n",
       "                                         description  \n",
       "0  As her father nears the end of his life, filmm...  \n",
       "1  After crossing paths at a party, a Cape Town t...  \n",
       "2  To protect his family from a powerful drug lor...  \n",
       "3  Feuds, flirtations and toilet talk go down amo...  \n",
       "4  In a city of coaching centers known to train I...  "
      ]
     },
     "execution_count": 3,
     "metadata": {},
     "output_type": "execute_result"
    }
   ],
   "source": [
    "print('-' * 40)\n",
    "print('\\nSize of Netflix data is {}\\n'.format(data.shape))\n",
    "print('-' * 40)\n",
    "data.head()"
   ]
  },
  {
   "cell_type": "code",
   "execution_count": 4,
   "id": "6ab1f658",
   "metadata": {},
   "outputs": [],
   "source": [
    "data = data.drop(['show_id'], axis=1)"
   ]
  },
  {
   "cell_type": "markdown",
   "id": "9cf7ddb9",
   "metadata": {},
   "source": [
    "# Handling Missing Data\n",
    "\n",
    "- replace missing  countries with 'Not Specify'\n",
    "- replace missing with 'No Director'\n",
    "- replace missing cast with 'No Cast'"
   ]
  },
  {
   "cell_type": "markdown",
   "id": "06f951a1",
   "metadata": {},
   "source": [
    "data.isnull().sum()"
   ]
  },
  {
   "cell_type": "code",
   "execution_count": 5,
   "id": "9a2b11ab",
   "metadata": {},
   "outputs": [
    {
     "data": {
      "text/plain": [
       "type             0\n",
       "title            0\n",
       "director         0\n",
       "cast             0\n",
       "country          0\n",
       "date_added      10\n",
       "release_year     0\n",
       "rating           4\n",
       "duration         3\n",
       "listed_in        0\n",
       "description      0\n",
       "dtype: int64"
      ]
     },
     "execution_count": 5,
     "metadata": {},
     "output_type": "execute_result"
    }
   ],
   "source": [
    "data['director'].replace(np.nan, 'No Director',inplace=True)\n",
    "data['cast'].replace(np.nan, 'No Cast',inplace=True)\n",
    "data['country'].replace(np.nan, 'Not Specify',inplace=True)\n",
    "data.isnull().sum()"
   ]
  },
  {
   "cell_type": "code",
   "execution_count": 6,
   "id": "756c4b0e",
   "metadata": {},
   "outputs": [
    {
     "data": {
      "text/plain": [
       "type            0\n",
       "title           0\n",
       "director        0\n",
       "cast            0\n",
       "country         0\n",
       "date_added      0\n",
       "release_year    0\n",
       "rating          0\n",
       "duration        0\n",
       "listed_in       0\n",
       "description     0\n",
       "dtype: int64"
      ]
     },
     "execution_count": 6,
     "metadata": {},
     "output_type": "execute_result"
    }
   ],
   "source": [
    "data = data.dropna()\n",
    "data.isnull().sum()"
   ]
  },
  {
   "cell_type": "code",
   "execution_count": 7,
   "id": "ec112ad8",
   "metadata": {},
   "outputs": [
    {
     "name": "stdout",
     "output_type": "stream",
     "text": [
      "---------------------------------------------\n",
      "\n",
      "Statstical information about given data \n",
      "\n",
      "---------------------------------------------\n"
     ]
    },
    {
     "data": {
      "text/html": [
       "<div>\n",
       "<style scoped>\n",
       "    .dataframe tbody tr th:only-of-type {\n",
       "        vertical-align: middle;\n",
       "    }\n",
       "\n",
       "    .dataframe tbody tr th {\n",
       "        vertical-align: top;\n",
       "    }\n",
       "\n",
       "    .dataframe thead th {\n",
       "        text-align: right;\n",
       "    }\n",
       "</style>\n",
       "<table border=\"1\" class=\"dataframe\">\n",
       "  <thead>\n",
       "    <tr style=\"text-align: right;\">\n",
       "      <th></th>\n",
       "      <th>release_year</th>\n",
       "    </tr>\n",
       "  </thead>\n",
       "  <tbody>\n",
       "    <tr>\n",
       "      <th>count</th>\n",
       "      <td>8790.000000</td>\n",
       "    </tr>\n",
       "    <tr>\n",
       "      <th>mean</th>\n",
       "      <td>2014.183163</td>\n",
       "    </tr>\n",
       "    <tr>\n",
       "      <th>std</th>\n",
       "      <td>8.825466</td>\n",
       "    </tr>\n",
       "    <tr>\n",
       "      <th>min</th>\n",
       "      <td>1925.000000</td>\n",
       "    </tr>\n",
       "    <tr>\n",
       "      <th>25%</th>\n",
       "      <td>2013.000000</td>\n",
       "    </tr>\n",
       "    <tr>\n",
       "      <th>50%</th>\n",
       "      <td>2017.000000</td>\n",
       "    </tr>\n",
       "    <tr>\n",
       "      <th>75%</th>\n",
       "      <td>2019.000000</td>\n",
       "    </tr>\n",
       "    <tr>\n",
       "      <th>max</th>\n",
       "      <td>2021.000000</td>\n",
       "    </tr>\n",
       "  </tbody>\n",
       "</table>\n",
       "</div>"
      ],
      "text/plain": [
       "       release_year\n",
       "count   8790.000000\n",
       "mean    2014.183163\n",
       "std        8.825466\n",
       "min     1925.000000\n",
       "25%     2013.000000\n",
       "50%     2017.000000\n",
       "75%     2019.000000\n",
       "max     2021.000000"
      ]
     },
     "execution_count": 7,
     "metadata": {},
     "output_type": "execute_result"
    }
   ],
   "source": [
    "print('-' * 45)\n",
    "print(\"\\nStatstical information about given data \\n\")\n",
    "print('-' * 45)\n",
    "data.describe()"
   ]
  },
  {
   "cell_type": "code",
   "execution_count": 8,
   "id": "0b82b9b8",
   "metadata": {},
   "outputs": [
    {
     "name": "stdout",
     "output_type": "stream",
     "text": [
      "\n",
      "Check Duplicates\n"
     ]
    },
    {
     "data": {
      "text/plain": [
       "0"
      ]
     },
     "execution_count": 8,
     "metadata": {},
     "output_type": "execute_result"
    }
   ],
   "source": [
    "print(\"\\nCheck Duplicates\")\n",
    "data.duplicated().sum()"
   ]
  },
  {
   "cell_type": "markdown",
   "id": "6d0a39aa",
   "metadata": {},
   "source": [
    " # <div style=\"font-family: Trebuchet MS; background-color: #6C935C; color: #FFFFFF; padding: 12px; line-height: 1.5;\">Show Type  content is available</div>\n"
   ]
  },
  {
   "cell_type": "code",
   "execution_count": 9,
   "id": "fda0d180",
   "metadata": {},
   "outputs": [
    {
     "data": {
      "text/plain": [
       "Movie      6126\n",
       "TV Show    2664\n",
       "Name: type, dtype: int64"
      ]
     },
     "execution_count": 9,
     "metadata": {},
     "output_type": "execute_result"
    }
   ],
   "source": [
    "data['type'].value_counts()"
   ]
  },
  {
   "cell_type": "code",
   "execution_count": 10,
   "id": "36eafb1f",
   "metadata": {},
   "outputs": [
    {
     "data": {
      "text/html": [
       "\n",
       "<script>\n",
       "    require.config({\n",
       "        paths: {\n",
       "            'chartXkcd':'https://cdn.jsdelivr.net/npm/chart.xkcd@1.1/dist/chart.xkcd.min'\n",
       "        }\n",
       "    });\n",
       "</script>\n",
       "\n",
       "<div id=\"489efeb2ea5641c6a69a6c8322dc3638\" class=\"chart-container\" style=\"width: 720px\">\n",
       "        <svg id=\"chart_489efeb2ea5641c6a69a6c8322dc3638\"></svg>\n",
       "    </div>\n",
       "    <script>\n",
       "        require(['chartXkcd'], function(chartXkcd) {\n",
       "            const svg_489efeb2ea5641c6a69a6c8322dc3638 = document.querySelector('#chart_489efeb2ea5641c6a69a6c8322dc3638')\n",
       "            const chart_489efeb2ea5641c6a69a6c8322dc3638 = new chartXkcd.Pie(svg_489efeb2ea5641c6a69a6c8322dc3638, {\"title\": \"Payment Method Category\", \"data\": {\"datasets\": [{\"data\": [6126, 2664]}], \"labels\": [\"Movie\", \"TV Show\"]}, \"options\": {\"innerRadius\": 0, \"legendPosition\": 1, \"dataColors\": [\"#ee333c\", \"#168ab5\"]}});\n",
       "        })\n",
       "    </script>\n"
      ],
      "text/plain": [
       "<cutecharts.render.engine.HTML at 0x20b01459f40>"
      ]
     },
     "execution_count": 10,
     "metadata": {},
     "output_type": "execute_result"
    }
   ],
   "source": [
    "t_values = data['type'].value_counts()\n",
    "t_labels = data['type'].unique()\n",
    "\n",
    "# pie chart \n",
    "pie = ctc.Pie('Payment Method Category', # title\n",
    "              width='720px',height='720px')\n",
    "\n",
    "# set the chart options\n",
    "pie.set_options(labels=list(t_labels), # country names as labels\n",
    "                inner_radius=0,                  # inner radius set to 0\n",
    "                colors=['#ee333c','#168ab5'])\n",
    "\n",
    "# label to be shown on graph\n",
    "pie.add_series(list(t_values)) \n",
    "\n",
    "# display the charts\n",
    "pie.render_notebook()\n"
   ]
  },
  {
   "cell_type": "markdown",
   "id": "07391a99",
   "metadata": {},
   "source": [
    "<h4>It is evident that there are more Movies on Netflix than TV shows."
   ]
  },
  {
   "cell_type": "markdown",
   "id": "f25b37d4",
   "metadata": {},
   "source": [
    " # <div style=\"font-family: Trebuchet MS; background-color: #6C935C; color: #FFFFFF; padding: 12px; line-height: 1.5;\">Top Five Rating Category</div>"
   ]
  },
  {
   "cell_type": "code",
   "execution_count": 11,
   "id": "da9165bc",
   "metadata": {},
   "outputs": [
    {
     "data": {
      "text/plain": [
       "TV-MA       3205\n",
       "TV-14       2157\n",
       "TV-PG        861\n",
       "R            799\n",
       "PG-13        490\n",
       "TV-Y7        333\n",
       "TV-Y         306\n",
       "PG           287\n",
       "TV-G         220\n",
       "NR            79\n",
       "G             41\n",
       "TV-Y7-FV       6\n",
       "NC-17          3\n",
       "UR             3\n",
       "Name: rating, dtype: int64"
      ]
     },
     "execution_count": 11,
     "metadata": {},
     "output_type": "execute_result"
    }
   ],
   "source": [
    "data.rating.value_counts()"
   ]
  },
  {
   "cell_type": "code",
   "execution_count": 12,
   "id": "8f981b68",
   "metadata": {},
   "outputs": [],
   "source": [
    "newdata = data.groupby('rating').size().rename_axis('Rating').reset_index(name='Count')\n",
    "nd = newdata.sort_values(by ='Count', ascending=True)\n",
    "nd = nd.tail(5)"
   ]
  },
  {
   "cell_type": "code",
   "execution_count": 13,
   "id": "3c14b46a",
   "metadata": {},
   "outputs": [
    {
     "data": {
      "text/html": [
       "\n",
       "<script>\n",
       "    require.config({\n",
       "        paths: {\n",
       "            'chartXkcd':'https://cdn.jsdelivr.net/npm/chart.xkcd@1.1/dist/chart.xkcd.min'\n",
       "        }\n",
       "    });\n",
       "</script>\n",
       "\n",
       "<div id=\"68954d4a981f45fda9fc1b0fbd6cc622\" class=\"chart-container\" style=\"width: 600px\">\n",
       "        <svg id=\"chart_68954d4a981f45fda9fc1b0fbd6cc622\"></svg>\n",
       "    </div>\n",
       "    <script>\n",
       "        require(['chartXkcd'], function(chartXkcd) {\n",
       "            const svg_68954d4a981f45fda9fc1b0fbd6cc622 = document.querySelector('#chart_68954d4a981f45fda9fc1b0fbd6cc622')\n",
       "            const chart_68954d4a981f45fda9fc1b0fbd6cc622 = new chartXkcd.Bar(svg_68954d4a981f45fda9fc1b0fbd6cc622, {\"title\": \"Top Five Rating Category\", \"data\": {\"datasets\": [{\"label\": \"Geners\", \"data\": [490, 799, 861, 2157, 3205]}], \"labels\": [\"PG-13\", \"R\", \"TV-PG\", \"TV-14\", \"TV-MA\"]}, \"xLabel\": \"Category\", \"yLabel\": \"Count\", \"options\": {\"yTickCount\": 3, \"dataColors\": [\"#c23531\", \"#2f4554\", \"#61a0a8\", \"#d48265\", \"#749f83\", \"#ca8622\", \"#bda29a\"]}});\n",
       "        })\n",
       "    </script>\n"
      ],
      "text/plain": [
       "<cutecharts.render.engine.HTML at 0x20b0141d730>"
      ]
     },
     "execution_count": 13,
     "metadata": {},
     "output_type": "execute_result"
    }
   ],
   "source": [
    "colors=['#FFF1C9', '#F7B7A3', '#EA5F89', '#9B3192', '#57167E', '#47B39C','#00529B']\n",
    "\n",
    "chart = ctc.Bar('Top Five Rating Category', width='600px', height='200px')\n",
    "\n",
    "chart.set_options(labels=list(nd.Rating),\n",
    "\n",
    "            x_label='Category',\n",
    "\n",
    "            y_label='Count',   \n",
    "\n",
    "            colors=Faker.colors\n",
    ")\n",
    "\n",
    "chart.add_series('Geners',list(nd['Count']))\n",
    "\n",
    "chart.render_notebook()"
   ]
  },
  {
   "cell_type": "markdown",
   "id": "85175047",
   "metadata": {},
   "source": [
    "# <div style=\"font-family: Trebuchet MS; background-color: #6C935C; color: #FFFFFF; padding: 12px; line-height: 1.5;\">Top  Five Directors</div>"
   ]
  },
  {
   "cell_type": "code",
   "execution_count": 14,
   "id": "a90098e4",
   "metadata": {
    "scrolled": true
   },
   "outputs": [
    {
     "data": {
      "text/html": [
       "<div>\n",
       "<style scoped>\n",
       "    .dataframe tbody tr th:only-of-type {\n",
       "        vertical-align: middle;\n",
       "    }\n",
       "\n",
       "    .dataframe tbody tr th {\n",
       "        vertical-align: top;\n",
       "    }\n",
       "\n",
       "    .dataframe thead th {\n",
       "        text-align: right;\n",
       "    }\n",
       "</style>\n",
       "<table border=\"1\" class=\"dataframe\">\n",
       "  <thead>\n",
       "    <tr style=\"text-align: right;\">\n",
       "      <th></th>\n",
       "      <th>director</th>\n",
       "      <th>counts</th>\n",
       "    </tr>\n",
       "  </thead>\n",
       "  <tbody>\n",
       "    <tr>\n",
       "      <th>4019</th>\n",
       "      <td>Rajiv Chilaka</td>\n",
       "      <td>22</td>\n",
       "    </tr>\n",
       "    <tr>\n",
       "      <th>4066</th>\n",
       "      <td>Raúl Campos</td>\n",
       "      <td>18</td>\n",
       "    </tr>\n",
       "    <tr>\n",
       "      <th>261</th>\n",
       "      <td>Jan Suter</td>\n",
       "      <td>18</td>\n",
       "    </tr>\n",
       "    <tr>\n",
       "      <th>4650</th>\n",
       "      <td>Suhas Kadav</td>\n",
       "      <td>16</td>\n",
       "    </tr>\n",
       "    <tr>\n",
       "      <th>3233</th>\n",
       "      <td>Marcus Raboy</td>\n",
       "      <td>16</td>\n",
       "    </tr>\n",
       "  </tbody>\n",
       "</table>\n",
       "</div>"
      ],
      "text/plain": [
       "           director  counts\n",
       "4019  Rajiv Chilaka      22\n",
       "4066    Raúl Campos      18\n",
       "261       Jan Suter      18\n",
       "4650    Suhas Kadav      16\n",
       "3233   Marcus Raboy      16"
      ]
     },
     "execution_count": 14,
     "metadata": {},
     "output_type": "execute_result"
    }
   ],
   "source": [
    "fil_directors = data['director'].str.split(',',expand=True).stack()\n",
    "fil_directors= pd.DataFrame(fil_directors)\n",
    "fil_directors.columns = ['director']\n",
    "directors = fil_directors.groupby(['director']).size().reset_index(name='counts')\n",
    "directors = directors.sort_values(by='counts',ascending=False)\n",
    "directors = directors[directors['director'] != 'No Director']\n",
    "directors = directors.head(5)\n",
    "directors"
   ]
  },
  {
   "cell_type": "code",
   "execution_count": 15,
   "id": "5cbc15ae",
   "metadata": {},
   "outputs": [
    {
     "data": {
      "text/html": [
       "\n",
       "<script>\n",
       "    require.config({\n",
       "        paths: {\n",
       "            'chartXkcd':'https://cdn.jsdelivr.net/npm/chart.xkcd@1.1/dist/chart.xkcd.min'\n",
       "        }\n",
       "    });\n",
       "</script>\n",
       "\n",
       "<div id=\"123c882051854d5787a10915bd2ebb57\" class=\"chart-container\" style=\"width: 600px\">\n",
       "        <svg id=\"chart_123c882051854d5787a10915bd2ebb57\"></svg>\n",
       "    </div>\n",
       "    <script>\n",
       "        require(['chartXkcd'], function(chartXkcd) {\n",
       "            const svg_123c882051854d5787a10915bd2ebb57 = document.querySelector('#chart_123c882051854d5787a10915bd2ebb57')\n",
       "            const chart_123c882051854d5787a10915bd2ebb57 = new chartXkcd.Bar(svg_123c882051854d5787a10915bd2ebb57, {\"title\": \"Top Five Director\", \"data\": {\"datasets\": [{\"label\": \"Geners\", \"data\": [22, 18, 18, 16, 16]}], \"labels\": [\"Rajiv Chilaka\", \"Ra\\u00fal Campos\", \" Jan Suter\", \"Suhas Kadav\", \"Marcus Raboy\"]}, \"xLabel\": \"Director\", \"yLabel\": \"Number of Movie\", \"options\": {\"yTickCount\": 3, \"dataColors\": [\"#c23531\", \"#2f4554\", \"#61a0a8\", \"#d48265\", \"#749f83\", \"#ca8622\", \"#bda29a\"]}});\n",
       "        })\n",
       "    </script>\n"
      ],
      "text/plain": [
       "<cutecharts.render.engine.HTML at 0x20b014435b0>"
      ]
     },
     "execution_count": 15,
     "metadata": {},
     "output_type": "execute_result"
    }
   ],
   "source": [
    "colors=['#FFF1C9', '#F7B7A3', '#EA5F89', '#9B3192', '#57167E', '#47B39C','#00529B']\n",
    "\n",
    "chart = ctc.Bar('Top Five Director', width='600px', height='200px')\n",
    "\n",
    "chart.set_options(labels=list(directors.director),x_label='Director',y_label='Number of Movie', colors=Faker.colors)\n",
    "\n",
    "chart.add_series('Geners',list(directors.counts))\n",
    "\n",
    "chart.render_notebook()\n"
   ]
  },
  {
   "cell_type": "markdown",
   "id": "176a5a56",
   "metadata": {},
   "source": [
    "# <div style=\"font-family: Trebuchet MS; background-color: #6C935C; color: #FFFFFF; padding: 12px; line-height: 1.5;\">Top Ten Actors</div>"
   ]
  },
  {
   "cell_type": "code",
   "execution_count": 16,
   "id": "d80d40b5",
   "metadata": {
    "scrolled": true
   },
   "outputs": [
    {
     "data": {
      "text/html": [
       "<div>\n",
       "<style scoped>\n",
       "    .dataframe tbody tr th:only-of-type {\n",
       "        vertical-align: middle;\n",
       "    }\n",
       "\n",
       "    .dataframe tbody tr th {\n",
       "        vertical-align: top;\n",
       "    }\n",
       "\n",
       "    .dataframe thead th {\n",
       "        text-align: right;\n",
       "    }\n",
       "</style>\n",
       "<table border=\"1\" class=\"dataframe\">\n",
       "  <thead>\n",
       "    <tr style=\"text-align: right;\">\n",
       "      <th></th>\n",
       "      <th>cast</th>\n",
       "      <th>counts</th>\n",
       "    </tr>\n",
       "  </thead>\n",
       "  <tbody>\n",
       "    <tr>\n",
       "      <th>2605</th>\n",
       "      <td>Anupam Kher</td>\n",
       "      <td>39</td>\n",
       "    </tr>\n",
       "    <tr>\n",
       "      <th>26903</th>\n",
       "      <td>Rupa Bhimani</td>\n",
       "      <td>31</td>\n",
       "    </tr>\n",
       "    <tr>\n",
       "      <th>30263</th>\n",
       "      <td>Takahiro Sakurai</td>\n",
       "      <td>30</td>\n",
       "    </tr>\n",
       "    <tr>\n",
       "      <th>15518</th>\n",
       "      <td>Julie Tejwani</td>\n",
       "      <td>28</td>\n",
       "    </tr>\n",
       "    <tr>\n",
       "      <th>23591</th>\n",
       "      <td>Om Puri</td>\n",
       "      <td>27</td>\n",
       "    </tr>\n",
       "  </tbody>\n",
       "</table>\n",
       "</div>"
      ],
      "text/plain": [
       "                    cast  counts\n",
       "2605         Anupam Kher      39\n",
       "26903       Rupa Bhimani      31\n",
       "30263   Takahiro Sakurai      30\n",
       "15518      Julie Tejwani      28\n",
       "23591            Om Puri      27"
      ]
     },
     "execution_count": 16,
     "metadata": {},
     "output_type": "execute_result"
    }
   ],
   "source": [
    "fil_actors = data['cast'].str.split(',',expand=True).stack()\n",
    "fil_actors= pd.DataFrame(fil_actors)\n",
    "fil_actors.columns = ['cast']\n",
    "actors = fil_actors.groupby(['cast']).size().reset_index(name='counts')\n",
    "actors = actors.sort_values(by='counts',ascending=False)\n",
    "actors = actors[actors['cast'] != 'No Cast']\n",
    "actors = actors.head(5)\n",
    "actors"
   ]
  },
  {
   "cell_type": "code",
   "execution_count": 17,
   "id": "fa9716ab",
   "metadata": {},
   "outputs": [
    {
     "data": {
      "text/html": [
       "\n",
       "<script>\n",
       "    require.config({\n",
       "        paths: {\n",
       "            'chartXkcd':'https://cdn.jsdelivr.net/npm/chart.xkcd@1.1/dist/chart.xkcd.min'\n",
       "        }\n",
       "    });\n",
       "</script>\n",
       "\n",
       "<div id=\"99c70c886d6343b78b9b48b5c41431ff\" class=\"chart-container\" style=\"width: 600px\">\n",
       "        <svg id=\"chart_99c70c886d6343b78b9b48b5c41431ff\"></svg>\n",
       "    </div>\n",
       "    <script>\n",
       "        require(['chartXkcd'], function(chartXkcd) {\n",
       "            const svg_99c70c886d6343b78b9b48b5c41431ff = document.querySelector('#chart_99c70c886d6343b78b9b48b5c41431ff')\n",
       "            const chart_99c70c886d6343b78b9b48b5c41431ff = new chartXkcd.Bar(svg_99c70c886d6343b78b9b48b5c41431ff, {\"title\": \"Top Ten Actors\", \"data\": {\"datasets\": [{\"label\": \"Geners\", \"data\": [39, 31, 30, 28, 27]}], \"labels\": [\" Anupam Kher\", \" Rupa Bhimani\", \" Takahiro Sakurai\", \" Julie Tejwani\", \" Om Puri\"]}, \"xLabel\": \"Director\", \"yLabel\": \"Number of Movie\", \"options\": {\"yTickCount\": 3, \"dataColors\": [\"#c23531\", \"#2f4554\", \"#61a0a8\", \"#d48265\", \"#749f83\", \"#ca8622\", \"#bda29a\"]}});\n",
       "        })\n",
       "    </script>\n"
      ],
      "text/plain": [
       "<cutecharts.render.engine.HTML at 0x20b01426c10>"
      ]
     },
     "execution_count": 17,
     "metadata": {},
     "output_type": "execute_result"
    }
   ],
   "source": [
    "colors=['#FFF1C9', '#F7B7A3', '#EA5F89', '#9B3192', '#57167E', '#47B39C','#00529B']\n",
    "\n",
    "chart = ctc.Bar('Top Ten Actors', width='600px', height='200px')\n",
    "\n",
    "chart.set_options(labels=list(actors.cast),x_label='Director',y_label='Number of Movie', colors=Faker.colors)\n",
    "\n",
    "chart.add_series('Geners',list(actors.counts))\n",
    "\n",
    "chart.render_notebook()\n"
   ]
  },
  {
   "cell_type": "code",
   "execution_count": null,
   "id": "acdacb6c",
   "metadata": {},
   "outputs": [],
   "source": []
  },
  {
   "cell_type": "code",
   "execution_count": null,
   "id": "ce49097f",
   "metadata": {},
   "outputs": [],
   "source": []
  },
  {
   "cell_type": "code",
   "execution_count": null,
   "id": "8839aaaf",
   "metadata": {},
   "outputs": [],
   "source": []
  },
  {
   "cell_type": "code",
   "execution_count": null,
   "id": "f4481012",
   "metadata": {},
   "outputs": [],
   "source": []
  },
  {
   "cell_type": "code",
   "execution_count": 18,
   "id": "909fdce5",
   "metadata": {},
   "outputs": [
    {
     "data": {
      "text/html": [
       "<div>\n",
       "<style scoped>\n",
       "    .dataframe tbody tr th:only-of-type {\n",
       "        vertical-align: middle;\n",
       "    }\n",
       "\n",
       "    .dataframe tbody tr th {\n",
       "        vertical-align: top;\n",
       "    }\n",
       "\n",
       "    .dataframe thead th {\n",
       "        text-align: right;\n",
       "    }\n",
       "</style>\n",
       "<table border=\"1\" class=\"dataframe\">\n",
       "  <thead>\n",
       "    <tr style=\"text-align: right;\">\n",
       "      <th></th>\n",
       "      <th>title</th>\n",
       "      <th>release_year</th>\n",
       "    </tr>\n",
       "  </thead>\n",
       "  <tbody>\n",
       "    <tr>\n",
       "      <th>4250</th>\n",
       "      <td>Pioneers: First Women Filmmakers*</td>\n",
       "      <td>1925</td>\n",
       "    </tr>\n",
       "    <tr>\n",
       "      <th>7790</th>\n",
       "      <td>Prelude to War</td>\n",
       "      <td>1942</td>\n",
       "    </tr>\n",
       "    <tr>\n",
       "      <th>8205</th>\n",
       "      <td>The Battle of Midway</td>\n",
       "      <td>1942</td>\n",
       "    </tr>\n",
       "    <tr>\n",
       "      <th>8763</th>\n",
       "      <td>WWII: Report from the Aleutians</td>\n",
       "      <td>1943</td>\n",
       "    </tr>\n",
       "    <tr>\n",
       "      <th>8739</th>\n",
       "      <td>Why We Fight: The Battle of Russia</td>\n",
       "      <td>1943</td>\n",
       "    </tr>\n",
       "  </tbody>\n",
       "</table>\n",
       "</div>"
      ],
      "text/plain": [
       "                                   title  release_year\n",
       "4250   Pioneers: First Women Filmmakers*          1925\n",
       "7790                      Prelude to War          1942\n",
       "8205                The Battle of Midway          1942\n",
       "8763     WWII: Report from the Aleutians          1943\n",
       "8739  Why We Fight: The Battle of Russia          1943"
      ]
     },
     "execution_count": 18,
     "metadata": {},
     "output_type": "execute_result"
    }
   ],
   "source": [
    "oldest_r = data.sort_values(\"release_year\", ascending = True)\n",
    "oldest_r = oldest_r[oldest_r['duration'] != \"\"]\n",
    "oldest_r[['title', \"release_year\"]][:5]"
   ]
  },
  {
   "cell_type": "code",
   "execution_count": 19,
   "id": "e6c10b6e",
   "metadata": {},
   "outputs": [
    {
     "data": {
      "text/html": [
       "<div>\n",
       "<style scoped>\n",
       "    .dataframe tbody tr th:only-of-type {\n",
       "        vertical-align: middle;\n",
       "    }\n",
       "\n",
       "    .dataframe tbody tr th {\n",
       "        vertical-align: top;\n",
       "    }\n",
       "\n",
       "    .dataframe thead th {\n",
       "        text-align: right;\n",
       "    }\n",
       "</style>\n",
       "<table border=\"1\" class=\"dataframe\">\n",
       "  <thead>\n",
       "    <tr style=\"text-align: right;\">\n",
       "      <th></th>\n",
       "      <th>title</th>\n",
       "      <th>release_year</th>\n",
       "    </tr>\n",
       "  </thead>\n",
       "  <tbody>\n",
       "    <tr>\n",
       "      <th>693</th>\n",
       "      <td>Ali &amp; Ratu Ratu Queens</td>\n",
       "      <td>2021</td>\n",
       "    </tr>\n",
       "    <tr>\n",
       "      <th>781</th>\n",
       "      <td>Black Holes | The Edge of All We Know</td>\n",
       "      <td>2021</td>\n",
       "    </tr>\n",
       "    <tr>\n",
       "      <th>762</th>\n",
       "      <td>Sweet &amp; Sour</td>\n",
       "      <td>2021</td>\n",
       "    </tr>\n",
       "    <tr>\n",
       "      <th>763</th>\n",
       "      <td>Sweet Tooth</td>\n",
       "      <td>2021</td>\n",
       "    </tr>\n",
       "    <tr>\n",
       "      <th>764</th>\n",
       "      <td>Trippin' with the Kandasamys</td>\n",
       "      <td>2021</td>\n",
       "    </tr>\n",
       "  </tbody>\n",
       "</table>\n",
       "</div>"
      ],
      "text/plain": [
       "                                     title  release_year\n",
       "693                 Ali & Ratu Ratu Queens          2021\n",
       "781  Black Holes | The Edge of All We Know          2021\n",
       "762                           Sweet & Sour          2021\n",
       "763                            Sweet Tooth          2021\n",
       "764           Trippin' with the Kandasamys          2021"
      ]
     },
     "execution_count": 19,
     "metadata": {},
     "output_type": "execute_result"
    }
   ],
   "source": [
    "new_r = data.sort_values(\"release_year\", ascending = False)\n",
    "new_r = new_r[new_r['duration'] != \"\"]\n",
    "new_r[['title', \"release_year\"]][:5]"
   ]
  },
  {
   "cell_type": "markdown",
   "id": "507949e1",
   "metadata": {},
   "source": [
    "# <div style=\"font-family: Trebuchet MS; background-color: #6C935C; color: #FFFFFF; padding: 12px; line-height: 1.5;\">Trand of focus on TV Shows and movies in recent years.</div>"
   ]
  },
  {
   "cell_type": "code",
   "execution_count": 20,
   "id": "579c1f44",
   "metadata": {
    "scrolled": true
   },
   "outputs": [
    {
     "data": {
      "text/html": [
       "<div>\n",
       "<style scoped>\n",
       "    .dataframe tbody tr th:only-of-type {\n",
       "        vertical-align: middle;\n",
       "    }\n",
       "\n",
       "    .dataframe tbody tr th {\n",
       "        vertical-align: top;\n",
       "    }\n",
       "\n",
       "    .dataframe thead th {\n",
       "        text-align: right;\n",
       "    }\n",
       "</style>\n",
       "<table border=\"1\" class=\"dataframe\">\n",
       "  <thead>\n",
       "    <tr style=\"text-align: right;\">\n",
       "      <th></th>\n",
       "      <th>Release Year</th>\n",
       "      <th>type</th>\n",
       "      <th>Total Content</th>\n",
       "    </tr>\n",
       "  </thead>\n",
       "  <tbody>\n",
       "    <tr>\n",
       "      <th>95</th>\n",
       "      <td>2010</td>\n",
       "      <td>Movie</td>\n",
       "      <td>153</td>\n",
       "    </tr>\n",
       "    <tr>\n",
       "      <th>96</th>\n",
       "      <td>2010</td>\n",
       "      <td>TV Show</td>\n",
       "      <td>39</td>\n",
       "    </tr>\n",
       "    <tr>\n",
       "      <th>97</th>\n",
       "      <td>2011</td>\n",
       "      <td>Movie</td>\n",
       "      <td>145</td>\n",
       "    </tr>\n",
       "    <tr>\n",
       "      <th>98</th>\n",
       "      <td>2011</td>\n",
       "      <td>TV Show</td>\n",
       "      <td>40</td>\n",
       "    </tr>\n",
       "    <tr>\n",
       "      <th>99</th>\n",
       "      <td>2012</td>\n",
       "      <td>Movie</td>\n",
       "      <td>173</td>\n",
       "    </tr>\n",
       "  </tbody>\n",
       "</table>\n",
       "</div>"
      ],
      "text/plain": [
       "    Release Year     type  Total Content\n",
       "95          2010    Movie            153\n",
       "96          2010  TV Show             39\n",
       "97          2011    Movie            145\n",
       "98          2011  TV Show             40\n",
       "99          2012    Movie            173"
      ]
     },
     "execution_count": 20,
     "metadata": {},
     "output_type": "execute_result"
    }
   ],
   "source": [
    "dff = data[['type','release_year']]\n",
    "dff = dff.rename(columns = {'release_year' : 'Release Year'})\n",
    "dff2 = dff.groupby(['Release Year','type']).size().reset_index(name='Total Content')\n",
    "dff2 = dff2[dff2['Release Year']>=2010]\n",
    "dff2.head()"
   ]
  },
  {
   "cell_type": "code",
   "execution_count": 21,
   "id": "8735d30c",
   "metadata": {},
   "outputs": [],
   "source": [
    "dff3 = dff2[dff2['type']=='Movie']\n",
    "\n",
    "dff4 = dff2[dff2['type']=='TV Show']"
   ]
  },
  {
   "cell_type": "code",
   "execution_count": 22,
   "id": "fec1f6d5",
   "metadata": {},
   "outputs": [
    {
     "data": {
      "text/html": [
       "\n",
       "<script>\n",
       "    require.config({\n",
       "        paths: {\n",
       "            'chartXkcd':'https://cdn.jsdelivr.net/npm/chart.xkcd@1.1/dist/chart.xkcd.min'\n",
       "        }\n",
       "    });\n",
       "</script>\n",
       "\n",
       "<div id=\"695936fe052a435b92f65dc54c6e14ee\" class=\"chart-container\" style=\"width: 800px\">\n",
       "        <svg id=\"chart_695936fe052a435b92f65dc54c6e14ee\"></svg>\n",
       "    </div>\n",
       "    <script>\n",
       "        require(['chartXkcd'], function(chartXkcd) {\n",
       "            const svg_695936fe052a435b92f65dc54c6e14ee = document.querySelector('#chart_695936fe052a435b92f65dc54c6e14ee')\n",
       "            const chart_695936fe052a435b92f65dc54c6e14ee = new chartXkcd.Line(svg_695936fe052a435b92f65dc54c6e14ee, {\"title\": \"Last 10 Years of trand\", \"data\": {\"datasets\": [{\"label\": \"Movie\", \"data\": [153, 145, 173, 225, 264, 396, 658, 765, 767, 633, 517, 277]}, {\"label\": \"TV Show\", \"data\": [39, 40, 63, 61, 88, 159, 243, 265, 379, 397, 436, 315]}], \"labels\": [2010, 2011, 2012, 2013, 2014, 2015, 2016, 2017, 2018, 2019, 2020, 2021]}, \"xLabel\": \"Year\", \"yLabel\": \"End Year Amount\", \"options\": {\"yTickCount\": 3, \"legendPosition\": 1}});\n",
       "        })\n",
       "    </script>\n"
      ],
      "text/plain": [
       "<cutecharts.render.engine.HTML at 0x20b0141d850>"
      ]
     },
     "execution_count": 22,
     "metadata": {},
     "output_type": "execute_result"
    }
   ],
   "source": [
    "chart = Line('Last 10 Years of trand')\n",
    "chart.set_options(labels=list(dff3['Release Year']), x_label='Year', y_label='End Year Amount',)\n",
    "chart.add_series('Movie', list(dff3['Total Content']))\n",
    "chart.add_series('TV Show', list(dff4['Total Content']))\n",
    "chart.render_notebook()"
   ]
  },
  {
   "cell_type": "markdown",
   "id": "abb1060f",
   "metadata": {},
   "source": [
    "# Movie ratings analysis\n",
    "# <div style=\"font-family: Trebuchet MS; background-color: #6C935C; color: #FFFFFF; padding: 12px; line-height: 1.5;\">Importing Libraries</div>\n"
   ]
  },
  {
   "cell_type": "code",
   "execution_count": 23,
   "id": "d2d9811f",
   "metadata": {},
   "outputs": [
    {
     "data": {
      "text/html": [
       "<div>\n",
       "<style scoped>\n",
       "    .dataframe tbody tr th:only-of-type {\n",
       "        vertical-align: middle;\n",
       "    }\n",
       "\n",
       "    .dataframe tbody tr th {\n",
       "        vertical-align: top;\n",
       "    }\n",
       "\n",
       "    .dataframe thead th {\n",
       "        text-align: right;\n",
       "    }\n",
       "</style>\n",
       "<table border=\"1\" class=\"dataframe\">\n",
       "  <thead>\n",
       "    <tr style=\"text-align: right;\">\n",
       "      <th></th>\n",
       "      <th>country</th>\n",
       "    </tr>\n",
       "  </thead>\n",
       "  <tbody>\n",
       "    <tr>\n",
       "      <th>United States</th>\n",
       "      <td>2809</td>\n",
       "    </tr>\n",
       "    <tr>\n",
       "      <th>India</th>\n",
       "      <td>972</td>\n",
       "    </tr>\n",
       "    <tr>\n",
       "      <th>Not Specify</th>\n",
       "      <td>829</td>\n",
       "    </tr>\n",
       "    <tr>\n",
       "      <th>United Kingdom</th>\n",
       "      <td>418</td>\n",
       "    </tr>\n",
       "    <tr>\n",
       "      <th>Japan</th>\n",
       "      <td>243</td>\n",
       "    </tr>\n",
       "    <tr>\n",
       "      <th>South Korea</th>\n",
       "      <td>199</td>\n",
       "    </tr>\n",
       "    <tr>\n",
       "      <th>Canada</th>\n",
       "      <td>181</td>\n",
       "    </tr>\n",
       "    <tr>\n",
       "      <th>Spain</th>\n",
       "      <td>145</td>\n",
       "    </tr>\n",
       "    <tr>\n",
       "      <th>France</th>\n",
       "      <td>124</td>\n",
       "    </tr>\n",
       "    <tr>\n",
       "      <th>Mexico</th>\n",
       "      <td>110</td>\n",
       "    </tr>\n",
       "    <tr>\n",
       "      <th>Egypt</th>\n",
       "      <td>106</td>\n",
       "    </tr>\n",
       "  </tbody>\n",
       "</table>\n",
       "</div>"
      ],
      "text/plain": [
       "                country\n",
       "United States      2809\n",
       "India               972\n",
       "Not Specify         829\n",
       "United Kingdom      418\n",
       "Japan               243\n",
       "South Korea         199\n",
       "Canada              181\n",
       "Spain               145\n",
       "France              124\n",
       "Mexico              110\n",
       "Egypt               106"
      ]
     },
     "execution_count": 23,
     "metadata": {},
     "output_type": "execute_result"
    }
   ],
   "source": [
    "# Countries with highest rated content.\n",
    "\n",
    "country_count=data['country'].value_counts().sort_values(ascending=False)\n",
    "country_count=pd.DataFrame(country_count)\n",
    "topcountries=country_count[0:11]\n",
    "\n",
    "topcountries"
   ]
  },
  {
   "cell_type": "markdown",
   "id": "3c2efae0",
   "metadata": {},
   "source": [
    "# Year wise analysis"
   ]
  },
  {
   "cell_type": "code",
   "execution_count": 24,
   "id": "cbba335b",
   "metadata": {},
   "outputs": [],
   "source": [
    "# plt.figure(figsize=(12,10))\n",
    "# sns.set(style=\"darkgrid\")\n",
    "# ax = sns.countplot(y=\"release_year\", \n",
    "#                    data=netflix_movies, palette=\"Set2\", \n",
    "#                    order=netflix_movies['release_year'].value_counts().index[0:15])"
   ]
  },
  {
   "cell_type": "markdown",
   "id": "dc6d95c7",
   "metadata": {},
   "source": [
    "# Lollipop plot of Genres vs their count on Netflix"
   ]
  },
  {
   "cell_type": "markdown",
   "id": "7b4ecc86",
   "metadata": {},
   "source": [
    "# <div style=\"font-family: Trebuchet MS; background-color: #6C935C; color: #FFFFFF; padding: 12px; line-height: 1.5;\">Importing Libraries</div>\n"
   ]
  },
  {
   "cell_type": "code",
   "execution_count": 25,
   "id": "49eb04a7",
   "metadata": {},
   "outputs": [],
   "source": [
    "#which TV Shows "
   ]
  },
  {
   "cell_type": "code",
   "execution_count": 26,
   "id": "107de2ba",
   "metadata": {},
   "outputs": [
    {
     "name": "stdout",
     "output_type": "stream",
     "text": [
      "                      title   duration     type\n",
      "0      Dick Johnson Is Dead     90 min    Movie\n",
      "1             Blood & Water  2 Seasons  TV Show\n",
      "2                 Ganglands   1 Season  TV Show\n",
      "3     Jailbirds New Orleans   1 Season  TV Show\n",
      "4              Kota Factory  2 Seasons  TV Show\n",
      "...                     ...        ...      ...\n",
      "8802                 Zodiac    158 min    Movie\n",
      "8803            Zombie Dumb  2 Seasons  TV Show\n",
      "8804             Zombieland     88 min    Movie\n",
      "8805                   Zoom     88 min    Movie\n",
      "8806                 Zubaan    111 min    Movie\n",
      "\n",
      "[8790 rows x 3 columns]\n"
     ]
    }
   ],
   "source": [
    "features=['title','duration','type']\n",
    "durations= data[features]\n",
    "print(durations)"
   ]
  },
  {
   "cell_type": "code",
   "execution_count": 27,
   "id": "c06755ad",
   "metadata": {},
   "outputs": [
    {
     "name": "stdout",
     "output_type": "stream",
     "text": [
      "0        90 min\n",
      "1            2s\n",
      "2             1\n",
      "3             1\n",
      "4            2s\n",
      "         ...   \n",
      "8802    158 min\n",
      "8803         2s\n",
      "8804     88 min\n",
      "8805     88 min\n",
      "8806    111 min\n",
      "Name: no_of_seasons, Length: 8790, dtype: object\n"
     ]
    }
   ],
   "source": [
    "durations['no_of_seasons']=durations['duration'].str.replace(' Season','')\n",
    "print(durations.no_of_seasons)\n"
   ]
  },
  {
   "cell_type": "code",
   "execution_count": 28,
   "id": "fbdf3181",
   "metadata": {},
   "outputs": [
    {
     "data": {
      "text/html": [
       "<div>\n",
       "<style scoped>\n",
       "    .dataframe tbody tr th:only-of-type {\n",
       "        vertical-align: middle;\n",
       "    }\n",
       "\n",
       "    .dataframe tbody tr th {\n",
       "        vertical-align: top;\n",
       "    }\n",
       "\n",
       "    .dataframe thead th {\n",
       "        text-align: right;\n",
       "    }\n",
       "</style>\n",
       "<table border=\"1\" class=\"dataframe\">\n",
       "  <thead>\n",
       "    <tr style=\"text-align: right;\">\n",
       "      <th></th>\n",
       "      <th>title</th>\n",
       "      <th>duration</th>\n",
       "      <th>type</th>\n",
       "      <th>no_of_seasons</th>\n",
       "    </tr>\n",
       "  </thead>\n",
       "  <tbody>\n",
       "    <tr>\n",
       "      <th>0</th>\n",
       "      <td>Dick Johnson Is Dead</td>\n",
       "      <td>90 min</td>\n",
       "      <td>Movie</td>\n",
       "      <td>90 min</td>\n",
       "    </tr>\n",
       "    <tr>\n",
       "      <th>1</th>\n",
       "      <td>Blood &amp; Water</td>\n",
       "      <td>2 Seasons</td>\n",
       "      <td>TV Show</td>\n",
       "      <td>2</td>\n",
       "    </tr>\n",
       "    <tr>\n",
       "      <th>2</th>\n",
       "      <td>Ganglands</td>\n",
       "      <td>1 Season</td>\n",
       "      <td>TV Show</td>\n",
       "      <td>1</td>\n",
       "    </tr>\n",
       "    <tr>\n",
       "      <th>3</th>\n",
       "      <td>Jailbirds New Orleans</td>\n",
       "      <td>1 Season</td>\n",
       "      <td>TV Show</td>\n",
       "      <td>1</td>\n",
       "    </tr>\n",
       "    <tr>\n",
       "      <th>4</th>\n",
       "      <td>Kota Factory</td>\n",
       "      <td>2 Seasons</td>\n",
       "      <td>TV Show</td>\n",
       "      <td>2</td>\n",
       "    </tr>\n",
       "    <tr>\n",
       "      <th>...</th>\n",
       "      <td>...</td>\n",
       "      <td>...</td>\n",
       "      <td>...</td>\n",
       "      <td>...</td>\n",
       "    </tr>\n",
       "    <tr>\n",
       "      <th>8802</th>\n",
       "      <td>Zodiac</td>\n",
       "      <td>158 min</td>\n",
       "      <td>Movie</td>\n",
       "      <td>158 min</td>\n",
       "    </tr>\n",
       "    <tr>\n",
       "      <th>8803</th>\n",
       "      <td>Zombie Dumb</td>\n",
       "      <td>2 Seasons</td>\n",
       "      <td>TV Show</td>\n",
       "      <td>2</td>\n",
       "    </tr>\n",
       "    <tr>\n",
       "      <th>8804</th>\n",
       "      <td>Zombieland</td>\n",
       "      <td>88 min</td>\n",
       "      <td>Movie</td>\n",
       "      <td>88 min</td>\n",
       "    </tr>\n",
       "    <tr>\n",
       "      <th>8805</th>\n",
       "      <td>Zoom</td>\n",
       "      <td>88 min</td>\n",
       "      <td>Movie</td>\n",
       "      <td>88 min</td>\n",
       "    </tr>\n",
       "    <tr>\n",
       "      <th>8806</th>\n",
       "      <td>Zubaan</td>\n",
       "      <td>111 min</td>\n",
       "      <td>Movie</td>\n",
       "      <td>111 min</td>\n",
       "    </tr>\n",
       "  </tbody>\n",
       "</table>\n",
       "<p>8790 rows × 4 columns</p>\n",
       "</div>"
      ],
      "text/plain": [
       "                      title   duration     type no_of_seasons\n",
       "0      Dick Johnson Is Dead     90 min    Movie        90 min\n",
       "1             Blood & Water  2 Seasons  TV Show             2\n",
       "2                 Ganglands   1 Season  TV Show             1\n",
       "3     Jailbirds New Orleans   1 Season  TV Show             1\n",
       "4              Kota Factory  2 Seasons  TV Show             2\n",
       "...                     ...        ...      ...           ...\n",
       "8802                 Zodiac    158 min    Movie       158 min\n",
       "8803            Zombie Dumb  2 Seasons  TV Show             2\n",
       "8804             Zombieland     88 min    Movie        88 min\n",
       "8805                   Zoom     88 min    Movie        88 min\n",
       "8806                 Zubaan    111 min    Movie       111 min\n",
       "\n",
       "[8790 rows x 4 columns]"
      ]
     },
     "execution_count": 28,
     "metadata": {},
     "output_type": "execute_result"
    }
   ],
   "source": [
    "\n",
    "durations['no_of_seasons']=durations['no_of_seasons'].str.replace('s','')\n",
    "durations"
   ]
  },
  {
   "cell_type": "code",
   "execution_count": 30,
   "id": "82013b8c",
   "metadata": {},
   "outputs": [
    {
     "name": "stdout",
     "output_type": "stream",
     "text": [
      "<class 'pandas.core.series.Series'>\n",
      "Int64Index: 8790 entries, 0 to 8806\n",
      "Series name: no_of_seasons\n",
      "Non-Null Count  Dtype \n",
      "--------------  ----- \n",
      "8790 non-null   object\n",
      "dtypes: object(1)\n",
      "memory usage: 395.4+ KB\n"
     ]
    }
   ],
   "source": [
    "durations.no_of_seasons.info()"
   ]
  },
  {
   "cell_type": "code",
   "execution_count": 31,
   "id": "c07b7bfd",
   "metadata": {},
   "outputs": [
    {
     "ename": "ValueError",
     "evalue": "invalid literal for int() with base 10: '90 min'",
     "output_type": "error",
     "traceback": [
      "\u001b[1;31m---------------------------------------------------------------------------\u001b[0m",
      "\u001b[1;31mValueError\u001b[0m                                Traceback (most recent call last)",
      "\u001b[1;32m~\\AppData\\Local\\Temp\\ipykernel_12380\\447364210.py\u001b[0m in \u001b[0;36m<module>\u001b[1;34m\u001b[0m\n\u001b[1;32m----> 1\u001b[1;33m \u001b[0mdurations\u001b[0m\u001b[1;33m[\u001b[0m\u001b[1;34m'no_of_seasons'\u001b[0m\u001b[1;33m]\u001b[0m\u001b[1;33m=\u001b[0m\u001b[0mdurations\u001b[0m\u001b[1;33m[\u001b[0m\u001b[1;34m'no_of_seasons'\u001b[0m\u001b[1;33m]\u001b[0m\u001b[1;33m.\u001b[0m\u001b[0mastype\u001b[0m\u001b[1;33m(\u001b[0m\u001b[0mstr\u001b[0m\u001b[1;33m)\u001b[0m\u001b[1;33m.\u001b[0m\u001b[0mastype\u001b[0m\u001b[1;33m(\u001b[0m\u001b[0mint\u001b[0m\u001b[1;33m)\u001b[0m\u001b[1;33m\u001b[0m\u001b[1;33m\u001b[0m\u001b[0m\n\u001b[0m\u001b[0;32m      2\u001b[0m \u001b[0mdurations\u001b[0m\u001b[1;33m.\u001b[0m\u001b[0minfo\u001b[0m\u001b[1;33m(\u001b[0m\u001b[1;33m)\u001b[0m\u001b[1;33m\u001b[0m\u001b[1;33m\u001b[0m\u001b[0m\n",
      "\u001b[1;32m~\\anaconda3\\lib\\site-packages\\pandas\\core\\generic.py\u001b[0m in \u001b[0;36mastype\u001b[1;34m(self, dtype, copy, errors)\u001b[0m\n\u001b[0;32m   5910\u001b[0m         \u001b[1;32melse\u001b[0m\u001b[1;33m:\u001b[0m\u001b[1;33m\u001b[0m\u001b[1;33m\u001b[0m\u001b[0m\n\u001b[0;32m   5911\u001b[0m             \u001b[1;31m# else, only a single dtype is given\u001b[0m\u001b[1;33m\u001b[0m\u001b[1;33m\u001b[0m\u001b[0m\n\u001b[1;32m-> 5912\u001b[1;33m             \u001b[0mnew_data\u001b[0m \u001b[1;33m=\u001b[0m \u001b[0mself\u001b[0m\u001b[1;33m.\u001b[0m\u001b[0m_mgr\u001b[0m\u001b[1;33m.\u001b[0m\u001b[0mastype\u001b[0m\u001b[1;33m(\u001b[0m\u001b[0mdtype\u001b[0m\u001b[1;33m=\u001b[0m\u001b[0mdtype\u001b[0m\u001b[1;33m,\u001b[0m \u001b[0mcopy\u001b[0m\u001b[1;33m=\u001b[0m\u001b[0mcopy\u001b[0m\u001b[1;33m,\u001b[0m \u001b[0merrors\u001b[0m\u001b[1;33m=\u001b[0m\u001b[0merrors\u001b[0m\u001b[1;33m)\u001b[0m\u001b[1;33m\u001b[0m\u001b[1;33m\u001b[0m\u001b[0m\n\u001b[0m\u001b[0;32m   5913\u001b[0m             \u001b[1;32mreturn\u001b[0m \u001b[0mself\u001b[0m\u001b[1;33m.\u001b[0m\u001b[0m_constructor\u001b[0m\u001b[1;33m(\u001b[0m\u001b[0mnew_data\u001b[0m\u001b[1;33m)\u001b[0m\u001b[1;33m.\u001b[0m\u001b[0m__finalize__\u001b[0m\u001b[1;33m(\u001b[0m\u001b[0mself\u001b[0m\u001b[1;33m,\u001b[0m \u001b[0mmethod\u001b[0m\u001b[1;33m=\u001b[0m\u001b[1;34m\"astype\"\u001b[0m\u001b[1;33m)\u001b[0m\u001b[1;33m\u001b[0m\u001b[1;33m\u001b[0m\u001b[0m\n\u001b[0;32m   5914\u001b[0m \u001b[1;33m\u001b[0m\u001b[0m\n",
      "\u001b[1;32m~\\anaconda3\\lib\\site-packages\\pandas\\core\\internals\\managers.py\u001b[0m in \u001b[0;36mastype\u001b[1;34m(self, dtype, copy, errors)\u001b[0m\n\u001b[0;32m    417\u001b[0m \u001b[1;33m\u001b[0m\u001b[0m\n\u001b[0;32m    418\u001b[0m     \u001b[1;32mdef\u001b[0m \u001b[0mastype\u001b[0m\u001b[1;33m(\u001b[0m\u001b[0mself\u001b[0m\u001b[1;33m:\u001b[0m \u001b[0mT\u001b[0m\u001b[1;33m,\u001b[0m \u001b[0mdtype\u001b[0m\u001b[1;33m,\u001b[0m \u001b[0mcopy\u001b[0m\u001b[1;33m:\u001b[0m \u001b[0mbool\u001b[0m \u001b[1;33m=\u001b[0m \u001b[1;32mFalse\u001b[0m\u001b[1;33m,\u001b[0m \u001b[0merrors\u001b[0m\u001b[1;33m:\u001b[0m \u001b[0mstr\u001b[0m \u001b[1;33m=\u001b[0m \u001b[1;34m\"raise\"\u001b[0m\u001b[1;33m)\u001b[0m \u001b[1;33m->\u001b[0m \u001b[0mT\u001b[0m\u001b[1;33m:\u001b[0m\u001b[1;33m\u001b[0m\u001b[1;33m\u001b[0m\u001b[0m\n\u001b[1;32m--> 419\u001b[1;33m         \u001b[1;32mreturn\u001b[0m \u001b[0mself\u001b[0m\u001b[1;33m.\u001b[0m\u001b[0mapply\u001b[0m\u001b[1;33m(\u001b[0m\u001b[1;34m\"astype\"\u001b[0m\u001b[1;33m,\u001b[0m \u001b[0mdtype\u001b[0m\u001b[1;33m=\u001b[0m\u001b[0mdtype\u001b[0m\u001b[1;33m,\u001b[0m \u001b[0mcopy\u001b[0m\u001b[1;33m=\u001b[0m\u001b[0mcopy\u001b[0m\u001b[1;33m,\u001b[0m \u001b[0merrors\u001b[0m\u001b[1;33m=\u001b[0m\u001b[0merrors\u001b[0m\u001b[1;33m)\u001b[0m\u001b[1;33m\u001b[0m\u001b[1;33m\u001b[0m\u001b[0m\n\u001b[0m\u001b[0;32m    420\u001b[0m \u001b[1;33m\u001b[0m\u001b[0m\n\u001b[0;32m    421\u001b[0m     def convert(\n",
      "\u001b[1;32m~\\anaconda3\\lib\\site-packages\\pandas\\core\\internals\\managers.py\u001b[0m in \u001b[0;36mapply\u001b[1;34m(self, f, align_keys, ignore_failures, **kwargs)\u001b[0m\n\u001b[0;32m    302\u001b[0m                     \u001b[0mapplied\u001b[0m \u001b[1;33m=\u001b[0m \u001b[0mb\u001b[0m\u001b[1;33m.\u001b[0m\u001b[0mapply\u001b[0m\u001b[1;33m(\u001b[0m\u001b[0mf\u001b[0m\u001b[1;33m,\u001b[0m \u001b[1;33m**\u001b[0m\u001b[0mkwargs\u001b[0m\u001b[1;33m)\u001b[0m\u001b[1;33m\u001b[0m\u001b[1;33m\u001b[0m\u001b[0m\n\u001b[0;32m    303\u001b[0m                 \u001b[1;32melse\u001b[0m\u001b[1;33m:\u001b[0m\u001b[1;33m\u001b[0m\u001b[1;33m\u001b[0m\u001b[0m\n\u001b[1;32m--> 304\u001b[1;33m                     \u001b[0mapplied\u001b[0m \u001b[1;33m=\u001b[0m \u001b[0mgetattr\u001b[0m\u001b[1;33m(\u001b[0m\u001b[0mb\u001b[0m\u001b[1;33m,\u001b[0m \u001b[0mf\u001b[0m\u001b[1;33m)\u001b[0m\u001b[1;33m(\u001b[0m\u001b[1;33m**\u001b[0m\u001b[0mkwargs\u001b[0m\u001b[1;33m)\u001b[0m\u001b[1;33m\u001b[0m\u001b[1;33m\u001b[0m\u001b[0m\n\u001b[0m\u001b[0;32m    305\u001b[0m             \u001b[1;32mexcept\u001b[0m \u001b[1;33m(\u001b[0m\u001b[0mTypeError\u001b[0m\u001b[1;33m,\u001b[0m \u001b[0mNotImplementedError\u001b[0m\u001b[1;33m)\u001b[0m\u001b[1;33m:\u001b[0m\u001b[1;33m\u001b[0m\u001b[1;33m\u001b[0m\u001b[0m\n\u001b[0;32m    306\u001b[0m                 \u001b[1;32mif\u001b[0m \u001b[1;32mnot\u001b[0m \u001b[0mignore_failures\u001b[0m\u001b[1;33m:\u001b[0m\u001b[1;33m\u001b[0m\u001b[1;33m\u001b[0m\u001b[0m\n",
      "\u001b[1;32m~\\anaconda3\\lib\\site-packages\\pandas\\core\\internals\\blocks.py\u001b[0m in \u001b[0;36mastype\u001b[1;34m(self, dtype, copy, errors)\u001b[0m\n\u001b[0;32m    578\u001b[0m         \u001b[0mvalues\u001b[0m \u001b[1;33m=\u001b[0m \u001b[0mself\u001b[0m\u001b[1;33m.\u001b[0m\u001b[0mvalues\u001b[0m\u001b[1;33m\u001b[0m\u001b[1;33m\u001b[0m\u001b[0m\n\u001b[0;32m    579\u001b[0m \u001b[1;33m\u001b[0m\u001b[0m\n\u001b[1;32m--> 580\u001b[1;33m         \u001b[0mnew_values\u001b[0m \u001b[1;33m=\u001b[0m \u001b[0mastype_array_safe\u001b[0m\u001b[1;33m(\u001b[0m\u001b[0mvalues\u001b[0m\u001b[1;33m,\u001b[0m \u001b[0mdtype\u001b[0m\u001b[1;33m,\u001b[0m \u001b[0mcopy\u001b[0m\u001b[1;33m=\u001b[0m\u001b[0mcopy\u001b[0m\u001b[1;33m,\u001b[0m \u001b[0merrors\u001b[0m\u001b[1;33m=\u001b[0m\u001b[0merrors\u001b[0m\u001b[1;33m)\u001b[0m\u001b[1;33m\u001b[0m\u001b[1;33m\u001b[0m\u001b[0m\n\u001b[0m\u001b[0;32m    581\u001b[0m \u001b[1;33m\u001b[0m\u001b[0m\n\u001b[0;32m    582\u001b[0m         \u001b[0mnew_values\u001b[0m \u001b[1;33m=\u001b[0m \u001b[0mmaybe_coerce_values\u001b[0m\u001b[1;33m(\u001b[0m\u001b[0mnew_values\u001b[0m\u001b[1;33m)\u001b[0m\u001b[1;33m\u001b[0m\u001b[1;33m\u001b[0m\u001b[0m\n",
      "\u001b[1;32m~\\anaconda3\\lib\\site-packages\\pandas\\core\\dtypes\\cast.py\u001b[0m in \u001b[0;36mastype_array_safe\u001b[1;34m(values, dtype, copy, errors)\u001b[0m\n\u001b[0;32m   1290\u001b[0m \u001b[1;33m\u001b[0m\u001b[0m\n\u001b[0;32m   1291\u001b[0m     \u001b[1;32mtry\u001b[0m\u001b[1;33m:\u001b[0m\u001b[1;33m\u001b[0m\u001b[1;33m\u001b[0m\u001b[0m\n\u001b[1;32m-> 1292\u001b[1;33m         \u001b[0mnew_values\u001b[0m \u001b[1;33m=\u001b[0m \u001b[0mastype_array\u001b[0m\u001b[1;33m(\u001b[0m\u001b[0mvalues\u001b[0m\u001b[1;33m,\u001b[0m \u001b[0mdtype\u001b[0m\u001b[1;33m,\u001b[0m \u001b[0mcopy\u001b[0m\u001b[1;33m=\u001b[0m\u001b[0mcopy\u001b[0m\u001b[1;33m)\u001b[0m\u001b[1;33m\u001b[0m\u001b[1;33m\u001b[0m\u001b[0m\n\u001b[0m\u001b[0;32m   1293\u001b[0m     \u001b[1;32mexcept\u001b[0m \u001b[1;33m(\u001b[0m\u001b[0mValueError\u001b[0m\u001b[1;33m,\u001b[0m \u001b[0mTypeError\u001b[0m\u001b[1;33m)\u001b[0m\u001b[1;33m:\u001b[0m\u001b[1;33m\u001b[0m\u001b[1;33m\u001b[0m\u001b[0m\n\u001b[0;32m   1294\u001b[0m         \u001b[1;31m# e.g. astype_nansafe can fail on object-dtype of strings\u001b[0m\u001b[1;33m\u001b[0m\u001b[1;33m\u001b[0m\u001b[0m\n",
      "\u001b[1;32m~\\anaconda3\\lib\\site-packages\\pandas\\core\\dtypes\\cast.py\u001b[0m in \u001b[0;36mastype_array\u001b[1;34m(values, dtype, copy)\u001b[0m\n\u001b[0;32m   1235\u001b[0m \u001b[1;33m\u001b[0m\u001b[0m\n\u001b[0;32m   1236\u001b[0m     \u001b[1;32melse\u001b[0m\u001b[1;33m:\u001b[0m\u001b[1;33m\u001b[0m\u001b[1;33m\u001b[0m\u001b[0m\n\u001b[1;32m-> 1237\u001b[1;33m         \u001b[0mvalues\u001b[0m \u001b[1;33m=\u001b[0m \u001b[0mastype_nansafe\u001b[0m\u001b[1;33m(\u001b[0m\u001b[0mvalues\u001b[0m\u001b[1;33m,\u001b[0m \u001b[0mdtype\u001b[0m\u001b[1;33m,\u001b[0m \u001b[0mcopy\u001b[0m\u001b[1;33m=\u001b[0m\u001b[0mcopy\u001b[0m\u001b[1;33m)\u001b[0m\u001b[1;33m\u001b[0m\u001b[1;33m\u001b[0m\u001b[0m\n\u001b[0m\u001b[0;32m   1238\u001b[0m \u001b[1;33m\u001b[0m\u001b[0m\n\u001b[0;32m   1239\u001b[0m     \u001b[1;31m# in pandas we don't store numpy str dtypes, so convert to object\u001b[0m\u001b[1;33m\u001b[0m\u001b[1;33m\u001b[0m\u001b[0m\n",
      "\u001b[1;32m~\\anaconda3\\lib\\site-packages\\pandas\\core\\dtypes\\cast.py\u001b[0m in \u001b[0;36mastype_nansafe\u001b[1;34m(arr, dtype, copy, skipna)\u001b[0m\n\u001b[0;32m   1152\u001b[0m         \u001b[1;31m# work around NumPy brokenness, #1987\u001b[0m\u001b[1;33m\u001b[0m\u001b[1;33m\u001b[0m\u001b[0m\n\u001b[0;32m   1153\u001b[0m         \u001b[1;32mif\u001b[0m \u001b[0mnp\u001b[0m\u001b[1;33m.\u001b[0m\u001b[0missubdtype\u001b[0m\u001b[1;33m(\u001b[0m\u001b[0mdtype\u001b[0m\u001b[1;33m.\u001b[0m\u001b[0mtype\u001b[0m\u001b[1;33m,\u001b[0m \u001b[0mnp\u001b[0m\u001b[1;33m.\u001b[0m\u001b[0minteger\u001b[0m\u001b[1;33m)\u001b[0m\u001b[1;33m:\u001b[0m\u001b[1;33m\u001b[0m\u001b[1;33m\u001b[0m\u001b[0m\n\u001b[1;32m-> 1154\u001b[1;33m             \u001b[1;32mreturn\u001b[0m \u001b[0mlib\u001b[0m\u001b[1;33m.\u001b[0m\u001b[0mastype_intsafe\u001b[0m\u001b[1;33m(\u001b[0m\u001b[0marr\u001b[0m\u001b[1;33m,\u001b[0m \u001b[0mdtype\u001b[0m\u001b[1;33m)\u001b[0m\u001b[1;33m\u001b[0m\u001b[1;33m\u001b[0m\u001b[0m\n\u001b[0m\u001b[0;32m   1155\u001b[0m \u001b[1;33m\u001b[0m\u001b[0m\n\u001b[0;32m   1156\u001b[0m         \u001b[1;31m# if we have a datetime/timedelta array of objects\u001b[0m\u001b[1;33m\u001b[0m\u001b[1;33m\u001b[0m\u001b[0m\n",
      "\u001b[1;32m~\\anaconda3\\lib\\site-packages\\pandas\\_libs\\lib.pyx\u001b[0m in \u001b[0;36mpandas._libs.lib.astype_intsafe\u001b[1;34m()\u001b[0m\n",
      "\u001b[1;31mValueError\u001b[0m: invalid literal for int() with base 10: '90 min'"
     ]
    }
   ],
   "source": [
    "durations['no_of_seasons']=durations['no_of_seasons'].astype(str).astype(int)\n",
    "durations.info()"
   ]
  },
  {
   "cell_type": "code",
   "execution_count": 32,
   "id": "943e4e5e",
   "metadata": {},
   "outputs": [
    {
     "ename": "NameError",
     "evalue": "name 'seasons' is not defined",
     "output_type": "error",
     "traceback": [
      "\u001b[1;31m---------------------------------------------------------------------------\u001b[0m",
      "\u001b[1;31mNameError\u001b[0m                                 Traceback (most recent call last)",
      "\u001b[1;32m~\\AppData\\Local\\Temp\\ipykernel_12380\\1868128112.py\u001b[0m in \u001b[0;36m<module>\u001b[1;34m\u001b[0m\n\u001b[1;32m----> 1\u001b[1;33m \u001b[0mseasons\u001b[0m \u001b[1;33m=\u001b[0m \u001b[0mseasons\u001b[0m\u001b[1;33m[\u001b[0m\u001b[0mseasons\u001b[0m\u001b[1;33m[\u001b[0m\u001b[1;34m'type'\u001b[0m\u001b[1;33m]\u001b[0m\u001b[1;33m==\u001b[0m\u001b[1;34m'TV Show'\u001b[0m\u001b[1;33m]\u001b[0m\u001b[1;33m\u001b[0m\u001b[1;33m\u001b[0m\u001b[0m\n\u001b[0m\u001b[0;32m      2\u001b[0m \u001b[0mseasons\u001b[0m\u001b[1;33m\u001b[0m\u001b[1;33m\u001b[0m\u001b[0m\n",
      "\u001b[1;31mNameError\u001b[0m: name 'seasons' is not defined"
     ]
    }
   ],
   "source": [
    "seasons = seasons[seasons['type']=='TV Show']\n",
    "seasons"
   ]
  },
  {
   "cell_type": "code",
   "execution_count": null,
   "id": "c3f9a47c",
   "metadata": {},
   "outputs": [],
   "source": [
    "seasons = durations.drop('duration', axis= 1)\n",
    "seasons"
   ]
  },
  {
   "cell_type": "code",
   "execution_count": null,
   "id": "1c789aa6",
   "metadata": {},
   "outputs": [],
   "source": [
    "seasons = seasons.sort_values('no_of_seasons', ascending=False)\n",
    "seasons"
   ]
  },
  {
   "cell_type": "code",
   "execution_count": null,
   "id": "2e3972f1",
   "metadata": {},
   "outputs": [],
   "source": [
    "seasons = seasons.head(5)"
   ]
  },
  {
   "cell_type": "code",
   "execution_count": null,
   "id": "00213faf",
   "metadata": {},
   "outputs": [],
   "source": [
    "colors=['#FFF1C9', '#F7B7A3', '#EA5F89', '#9B3192', '#57167E', '#47B39C','#00529B']\n",
    "\n",
    "chart = ctc.Bar('Top Five Tv Shows with Highest Seasons', width='600px', height='200px')\n",
    "\n",
    "chart.set_options(labels=list(seasons.title),x_label='Director',y_label='Number of Movie', colors=Faker.colors)\n",
    "\n",
    "chart.add_series('Geners',list(seasons.no_of_seasons))\n",
    "\n",
    "chart.render_notebook()\n"
   ]
  },
  {
   "cell_type": "code",
   "execution_count": null,
   "id": "fbd17242",
   "metadata": {},
   "outputs": [],
   "source": [
    "nos= durations[durations['no_of_seasons']]\n",
    "nos"
   ]
  },
  {
   "cell_type": "code",
   "execution_count": null,
   "id": "ef1d8541",
   "metadata": {},
   "outputs": [],
   "source": [
    "durations['no_of_seasons']=durations['no_of_seasons'].astype(str).astype(int)"
   ]
  },
  {
   "cell_type": "code",
   "execution_count": null,
   "id": "b0ae5ef6",
   "metadata": {},
   "outputs": [],
   "source": [
    "t=['title','no_of_seasons']\n",
    "top=durations[t]\n",
    "\n",
    "top=top.sort_values(by='no_of_seasons', ascending=False)"
   ]
  },
  {
   "cell_type": "code",
   "execution_count": null,
   "id": "ca8bbf64",
   "metadata": {},
   "outputs": [],
   "source": [
    "top20=top[0:20]\n",
    "top20.plot(kind='bar',x='title',y='no_of_seasons', color='red')"
   ]
  },
  {
   "cell_type": "code",
   "execution_count": null,
   "id": "e5662bd0",
   "metadata": {},
   "outputs": [],
   "source": [
    "data.head()"
   ]
  },
  {
   "cell_type": "code",
   "execution_count": null,
   "id": "3f183b0b",
   "metadata": {},
   "outputs": [],
   "source": [
    "data['country'].value_counts()"
   ]
  },
  {
   "cell_type": "markdown",
   "id": "541195e8",
   "metadata": {},
   "source": [
    "# Which Country release  movie \n",
    "# <div style=\"font-family: Trebuchet MS; background-color: #6C935C; color: #FFFFFF; padding: 12px; line-height: 1.5;\">Importing Libraries</div>\n"
   ]
  },
  {
   "cell_type": "code",
   "execution_count": null,
   "id": "4ec3cc6a",
   "metadata": {},
   "outputs": [],
   "source": [
    "features=['country','type']\n",
    "split_country= data[features]\n",
    "split_country.head()"
   ]
  },
  {
   "cell_type": "code",
   "execution_count": null,
   "id": "788148eb",
   "metadata": {},
   "outputs": [],
   "source": [
    "split_country.country.value_counts()"
   ]
  },
  {
   "cell_type": "code",
   "execution_count": null,
   "id": "140acb1a",
   "metadata": {},
   "outputs": [],
   "source": [
    "split_country = split_country['country'].str.split(',',expand=True).stack()\n",
    "split_country= pd.DataFrame(split_country)\n",
    "split_country.columns = ['country']\n",
    "split_country"
   ]
  },
  {
   "cell_type": "code",
   "execution_count": null,
   "id": "4333b397",
   "metadata": {},
   "outputs": [],
   "source": [
    "split_country['aaa']=split_country['country'].str.replace(' United States','United States')"
   ]
  },
  {
   "cell_type": "code",
   "execution_count": null,
   "id": "9ae85ff5",
   "metadata": {},
   "outputs": [],
   "source": [
    "country = split_country.groupby(['cast']).size().reset_index(name='counts')\n",
    "country = country.sort_values(by='counts',ascending=False)\n",
    "country = country[actors['cast'] != 'No Cast']\n",
    "country = country.head(5)\n",
    "country"
   ]
  },
  {
   "cell_type": "code",
   "execution_count": null,
   "id": "2975dd79",
   "metadata": {},
   "outputs": [],
   "source": [
    "split_country.country.value_counts()"
   ]
  },
  {
   "cell_type": "code",
   "execution_count": null,
   "id": "57e30a51",
   "metadata": {},
   "outputs": [],
   "source": [
    "split_country['aaa']=split_country['country'].str.replace(' United States','United States')"
   ]
  },
  {
   "cell_type": "code",
   "execution_count": null,
   "id": "17a2cf88",
   "metadata": {},
   "outputs": [],
   "source": [
    "split_country.country.value_counts()"
   ]
  },
  {
   "cell_type": "code",
   "execution_count": null,
   "id": "48ddcd19",
   "metadata": {},
   "outputs": [],
   "source": [
    "split_country['x'] = data['country'].str.split(',',expand=True).stack()\n",
    "# split_country = split_country.value_counts()\n",
    "split_country.head(50)"
   ]
  },
  {
   "cell_type": "code",
   "execution_count": null,
   "id": "d64e9114",
   "metadata": {},
   "outputs": [],
   "source": [
    "split_country.value_counts()"
   ]
  },
  {
   "cell_type": "code",
   "execution_count": null,
   "id": "50c14095",
   "metadata": {},
   "outputs": [],
   "source": [
    "print(durations)\n",
    "\n",
    "split_country = split_country.value_counts()\n"
   ]
  },
  {
   "cell_type": "code",
   "execution_count": null,
   "id": "cd852c67",
   "metadata": {},
   "outputs": [],
   "source": [
    "split_country= pd.DataFrame(split_country)\n",
    "split_country.columns = ['split_country']\n",
    "split_country = fil_directors.groupby(['director']).size().reset_index(name='counts')\n",
    "directors = directors.sort_values(by='counts',ascending=False)\n",
    "directors = directors[directors['director'] != 'No Director']\n",
    "# directors = directors.head(11)\n",
    "# directors"
   ]
  },
  {
   "cell_type": "code",
   "execution_count": null,
   "id": "54ecd40a",
   "metadata": {},
   "outputs": [],
   "source": [
    "directors = directors.head(11)\n",
    "directors"
   ]
  },
  {
   "cell_type": "code",
   "execution_count": null,
   "id": "1e3e380a",
   "metadata": {},
   "outputs": [],
   "source": [
    "us_series_data=data[data['country']=='United States']\n",
    "us_series_data = us_series_data[us_series_data['type']=='Movie']\n",
    "us_series_data.head()"
   ]
  },
  {
   "cell_type": "code",
   "execution_count": null,
   "id": "9145240f",
   "metadata": {},
   "outputs": [],
   "source": [
    "a = us_series_data.groupby(['rating']).size().reset_index(name='counts')"
   ]
  },
  {
   "cell_type": "code",
   "execution_count": null,
   "id": "c652f487",
   "metadata": {},
   "outputs": [],
   "source": [
    "type"
   ]
  },
  {
   "cell_type": "markdown",
   "id": "f60780d0",
   "metadata": {},
   "source": [
    "<div style=\"border-radius:10px; border:maroon; padding: 15px; background-color: #E6CCE6; font-size:110%; text-align:left\">\n",
    "<hr>\n",
    "<center>\n",
    "    <b style=\"font-size: 20px\";>  Check code in Github  👀 <a href=\"https://github.com/pritomsh/netflix-movies-tv-shows-data-analysis\">Here </a> 📌</b><br><br>\n",
    "    <b> Like this notebook? You can support me by giving upvote</b> 👍🔼<br>\n",
    "    </center>\n",
    "<hr>\n",
    "\n",
    "\n",
    "\n",
    "<h3 align=\"left\"><font color='purple'>Future Work:</font></h3>\n",
    "\n",
    "- Working __`PowerBI Dashboard Report`__\n",
    "\n",
    "\n",
    "Ref : \n",
    "- https://www.kaggle.com/code/niharika41298/netflix-visualizations-recommendation-eda\n",
    "- https://towardsdatascience.com/make-the-cutest-chart-in-python-visualize-your-data-with-hand-drawn-charts-f21157f76b4b\n",
    "-https://www.kaggle.com/code/anandhuh/introduction-to-cutecharts-library\n",
    "    </div>"
   ]
  },
  {
   "cell_type": "code",
   "execution_count": null,
   "id": "8594807b",
   "metadata": {},
   "outputs": [],
   "source": []
  }
 ],
 "metadata": {
  "kernelspec": {
   "display_name": "Python 3 (ipykernel)",
   "language": "python",
   "name": "python3"
  },
  "language_info": {
   "codemirror_mode": {
    "name": "ipython",
    "version": 3
   },
   "file_extension": ".py",
   "mimetype": "text/x-python",
   "name": "python",
   "nbconvert_exporter": "python",
   "pygments_lexer": "ipython3",
   "version": "3.9.13"
  }
 },
 "nbformat": 4,
 "nbformat_minor": 5
}
