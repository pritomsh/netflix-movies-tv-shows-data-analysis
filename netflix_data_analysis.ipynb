{
 "cells": [
  {
   "cell_type": "markdown",
   "id": "6ed87e24",
   "metadata": {},
   "source": [
    "# <div style=\"font-family: Trebuchet MS; background-color: #6C935C; color: #FFFFFF; padding: 12px; line-height: 1.5;\">Importing Libraries</div>\n",
    "\n"
   ]
  },
  {
   "cell_type": "code",
   "execution_count": 1,
   "id": "715a955e",
   "metadata": {},
   "outputs": [],
   "source": [
    "import numpy as np\n",
    "import pandas as pd\n",
    "import cutecharts.charts as ctc\n",
    "from cutecharts.faker import Faker\n",
    "import matplotlib.pyplot as plt"
   ]
  },
  {
   "cell_type": "code",
   "execution_count": 2,
   "id": "5d0eabe8",
   "metadata": {},
   "outputs": [],
   "source": [
    "data = pd.read_csv('data/netflix_titles.csv')"
   ]
  },
  {
   "cell_type": "code",
   "execution_count": 3,
   "id": "c6d87ac9",
   "metadata": {},
   "outputs": [
    {
     "name": "stdout",
     "output_type": "stream",
     "text": [
      "----------------------------------------\n",
      "\n",
      "Size of Netflix data is (8807, 12)\n",
      "\n",
      "----------------------------------------\n"
     ]
    },
    {
     "data": {
      "text/html": [
       "<div>\n",
       "<style scoped>\n",
       "    .dataframe tbody tr th:only-of-type {\n",
       "        vertical-align: middle;\n",
       "    }\n",
       "\n",
       "    .dataframe tbody tr th {\n",
       "        vertical-align: top;\n",
       "    }\n",
       "\n",
       "    .dataframe thead th {\n",
       "        text-align: right;\n",
       "    }\n",
       "</style>\n",
       "<table border=\"1\" class=\"dataframe\">\n",
       "  <thead>\n",
       "    <tr style=\"text-align: right;\">\n",
       "      <th></th>\n",
       "      <th>show_id</th>\n",
       "      <th>type</th>\n",
       "      <th>title</th>\n",
       "      <th>director</th>\n",
       "      <th>cast</th>\n",
       "      <th>country</th>\n",
       "      <th>date_added</th>\n",
       "      <th>release_year</th>\n",
       "      <th>rating</th>\n",
       "      <th>duration</th>\n",
       "      <th>listed_in</th>\n",
       "      <th>description</th>\n",
       "    </tr>\n",
       "  </thead>\n",
       "  <tbody>\n",
       "    <tr>\n",
       "      <th>0</th>\n",
       "      <td>s1</td>\n",
       "      <td>Movie</td>\n",
       "      <td>Dick Johnson Is Dead</td>\n",
       "      <td>Kirsten Johnson</td>\n",
       "      <td>NaN</td>\n",
       "      <td>United States</td>\n",
       "      <td>September 25, 2021</td>\n",
       "      <td>2020</td>\n",
       "      <td>PG-13</td>\n",
       "      <td>90 min</td>\n",
       "      <td>Documentaries</td>\n",
       "      <td>As her father nears the end of his life, filmm...</td>\n",
       "    </tr>\n",
       "    <tr>\n",
       "      <th>1</th>\n",
       "      <td>s2</td>\n",
       "      <td>TV Show</td>\n",
       "      <td>Blood &amp; Water</td>\n",
       "      <td>NaN</td>\n",
       "      <td>Ama Qamata, Khosi Ngema, Gail Mabalane, Thaban...</td>\n",
       "      <td>South Africa</td>\n",
       "      <td>September 24, 2021</td>\n",
       "      <td>2021</td>\n",
       "      <td>TV-MA</td>\n",
       "      <td>2 Seasons</td>\n",
       "      <td>International TV Shows, TV Dramas, TV Mysteries</td>\n",
       "      <td>After crossing paths at a party, a Cape Town t...</td>\n",
       "    </tr>\n",
       "    <tr>\n",
       "      <th>2</th>\n",
       "      <td>s3</td>\n",
       "      <td>TV Show</td>\n",
       "      <td>Ganglands</td>\n",
       "      <td>Julien Leclercq</td>\n",
       "      <td>Sami Bouajila, Tracy Gotoas, Samuel Jouy, Nabi...</td>\n",
       "      <td>NaN</td>\n",
       "      <td>September 24, 2021</td>\n",
       "      <td>2021</td>\n",
       "      <td>TV-MA</td>\n",
       "      <td>1 Season</td>\n",
       "      <td>Crime TV Shows, International TV Shows, TV Act...</td>\n",
       "      <td>To protect his family from a powerful drug lor...</td>\n",
       "    </tr>\n",
       "    <tr>\n",
       "      <th>3</th>\n",
       "      <td>s4</td>\n",
       "      <td>TV Show</td>\n",
       "      <td>Jailbirds New Orleans</td>\n",
       "      <td>NaN</td>\n",
       "      <td>NaN</td>\n",
       "      <td>NaN</td>\n",
       "      <td>September 24, 2021</td>\n",
       "      <td>2021</td>\n",
       "      <td>TV-MA</td>\n",
       "      <td>1 Season</td>\n",
       "      <td>Docuseries, Reality TV</td>\n",
       "      <td>Feuds, flirtations and toilet talk go down amo...</td>\n",
       "    </tr>\n",
       "    <tr>\n",
       "      <th>4</th>\n",
       "      <td>s5</td>\n",
       "      <td>TV Show</td>\n",
       "      <td>Kota Factory</td>\n",
       "      <td>NaN</td>\n",
       "      <td>Mayur More, Jitendra Kumar, Ranjan Raj, Alam K...</td>\n",
       "      <td>India</td>\n",
       "      <td>September 24, 2021</td>\n",
       "      <td>2021</td>\n",
       "      <td>TV-MA</td>\n",
       "      <td>2 Seasons</td>\n",
       "      <td>International TV Shows, Romantic TV Shows, TV ...</td>\n",
       "      <td>In a city of coaching centers known to train I...</td>\n",
       "    </tr>\n",
       "  </tbody>\n",
       "</table>\n",
       "</div>"
      ],
      "text/plain": [
       "  show_id     type                  title         director  \\\n",
       "0      s1    Movie   Dick Johnson Is Dead  Kirsten Johnson   \n",
       "1      s2  TV Show          Blood & Water              NaN   \n",
       "2      s3  TV Show              Ganglands  Julien Leclercq   \n",
       "3      s4  TV Show  Jailbirds New Orleans              NaN   \n",
       "4      s5  TV Show           Kota Factory              NaN   \n",
       "\n",
       "                                                cast        country  \\\n",
       "0                                                NaN  United States   \n",
       "1  Ama Qamata, Khosi Ngema, Gail Mabalane, Thaban...   South Africa   \n",
       "2  Sami Bouajila, Tracy Gotoas, Samuel Jouy, Nabi...            NaN   \n",
       "3                                                NaN            NaN   \n",
       "4  Mayur More, Jitendra Kumar, Ranjan Raj, Alam K...          India   \n",
       "\n",
       "           date_added  release_year rating   duration  \\\n",
       "0  September 25, 2021          2020  PG-13     90 min   \n",
       "1  September 24, 2021          2021  TV-MA  2 Seasons   \n",
       "2  September 24, 2021          2021  TV-MA   1 Season   \n",
       "3  September 24, 2021          2021  TV-MA   1 Season   \n",
       "4  September 24, 2021          2021  TV-MA  2 Seasons   \n",
       "\n",
       "                                           listed_in  \\\n",
       "0                                      Documentaries   \n",
       "1    International TV Shows, TV Dramas, TV Mysteries   \n",
       "2  Crime TV Shows, International TV Shows, TV Act...   \n",
       "3                             Docuseries, Reality TV   \n",
       "4  International TV Shows, Romantic TV Shows, TV ...   \n",
       "\n",
       "                                         description  \n",
       "0  As her father nears the end of his life, filmm...  \n",
       "1  After crossing paths at a party, a Cape Town t...  \n",
       "2  To protect his family from a powerful drug lor...  \n",
       "3  Feuds, flirtations and toilet talk go down amo...  \n",
       "4  In a city of coaching centers known to train I...  "
      ]
     },
     "execution_count": 3,
     "metadata": {},
     "output_type": "execute_result"
    }
   ],
   "source": [
    "print('-' * 40)\n",
    "print('\\nSize of Netflix data is {}\\n'.format(data.shape))\n",
    "print('-' * 40)\n",
    "data.head()"
   ]
  },
  {
   "cell_type": "code",
   "execution_count": 4,
   "id": "6ab1f658",
   "metadata": {},
   "outputs": [],
   "source": [
    "data = data.drop(['show_id'], axis=1)"
   ]
  },
  {
   "cell_type": "markdown",
   "id": "28b439db",
   "metadata": {},
   "source": [
    "# <div style=\"font-family: Trebuchet MS; background-color: #8A0030; color: #FFFFFF; padding: 12px; line-height: 1.5;\">1. | Introduction 👋</div>\n",
    "<center>\n",
    "    <img src=\"\" alt=\"Heart Disease\" width=\"80%\">\n",
    "</center>\n",
    "<br>\n",
    "\n",
    "## <div style=\"font-family: Trebuchet MS; background-color: #BA1141; color: #FFFFFF; padding: 12px; line-height: 1.5;\">Dataset Problems 🤔</div>\n",
    "<div style=\"font-family: Segoe UI; line-height: 2; color: #000000; text-align: justify\">\n",
    "👉 This dataset contains information about contains diagnoses of heart disease patients. Machine learning model is needed in order <mark><b>to determine whether a person has heart disease or not</b></mark>.</div>\n",
    "\n",
    "## <div style=\"font-family: Trebuchet MS; background-color: #BA1141; color: #FFFFFF; padding: 12px; line-height: 1.5;\">Objectives of Notebook 📌</div>\n",
    "<div style=\"font-family: Segoe UI; line-height: 2; color: #000000; text-align: justify\">\n",
    "    👉 <b>This notebook aims to:</b>\n",
    "    <ul>\n",
    "        <li> <mark><b>Perform dataset exploration</b></mark> using various types of data visualization.</li>\n",
    "        <li> <mark><b>Build various ML models</b></mark> that can predict whether patients has heart disease or not.</li>\n",
    "        <li> <mark><b>Export prediction & best model</b></mark> into text file.</li>\n",
    "        <li> <mark><b>Perform prediction on new example data</b></mark> given.</li>\n",
    "    </ul>\n",
    "</div>\n",
    "\n",
    "## <div style=\"font-family: Trebuchet MS; background-color: #BA1141; color: #FFFFFF; padding: 12px; line-height: 1.5;\">Machine Learning Modules 👨‍💻</div>\n",
    "<div style=\"font-family: Segoe UI; line-height: 2; color: #000000; text-align: justify\">\n",
    "    👉 The <b>models</b> used in this notebook:\n",
    "    <ol start=\"1\">\n",
    "        <li> <b>Logistic Regression</b>,</li>\n",
    "        <li> <b>K-Nearest Neighbour (KNN)</b>,</li>\n",
    "        <li> <b>Support Vector Machine (SVM)</b>,</li>\n",
    "        <li> <b>Gaussian Naive Bayes</b>,</li>\n",
    "        <li> <b>Decision Tree</b>,</li>\n",
    "        <li> <b>Random Forest</b>,</li>\n",
    "        <li> <b><span style=\"font-size: 8; background-color: #FFDF01;\"><sup>*NEW*</sup></span> Extra Tree Classifier</b>,</li>\n",
    "        <li> <b>Gradient Boosting</b>, and</li>\n",
    "        <li> <b><span style=\"font-size: 8; background-color: #FFDF01;\"><sup>*NEW*</sup></span> AdaBoost</b>.</li>\n",
    "    </ol>\n",
    "</div>\n",
    "\n",
    "## <div style=\"font-family: Trebuchet MS; background-color: #BA1141; color: #FFFFFF; padding: 12px; line-height: 1.5;\">Dataset Description 🧾</div>\n",
    "<div style=\"font-family: Segoe UI; line-height: 2; color: #000000; text-align: justify\">\n",
    "    👉 There are <mark><b>14 variables</b></mark> in this dataset:\n",
    "    <ul>\n",
    "        <li> <b>9 categorical</b> variables, and</li>\n",
    "        <li> <b>5 continuous</b> variables.</li>\n",
    "    </ul>\n",
    "</div>\n",
    "\n",
    "<div style=\"font-family: Segoe UI; line-height: 2; color: #000000; text-align: justify\">\n",
    "    👉 The following is the <b>structure of the dataset</b>.<br>\n",
    "    \n",
    "\n",
    "    \n",
    "<hr>\n",
    "<center>\n",
    "    <b style=\"font-size: 20px\";>  Check code in Github  👀 <a href=\"https://github.com/pritomsh/netflix-movies-tv-shows-data-analysis\">Here </a> 📌</b><br><br>\n",
    "    <b> Like this notebook? You can support me by giving upvote</b> 👍🔼<br>\n",
    "    </center>\n",
    "<hr>\n",
    "</div>"
   ]
  },
  {
   "cell_type": "markdown",
   "id": "7df923c7",
   "metadata": {},
   "source": [
    "# Handling Missing Data\n",
    "\n",
    "- replace missing  countries with 'Not Specify'\n",
    "- replace missing with 'No Director'\n",
    "- replace missing cast with 'No Cast'"
   ]
  },
  {
   "cell_type": "markdown",
   "id": "97060444",
   "metadata": {},
   "source": [
    "data.isnull().sum()"
   ]
  },
  {
   "cell_type": "code",
   "execution_count": 6,
   "id": "9a2b11ab",
   "metadata": {},
   "outputs": [
    {
     "data": {
      "text/plain": [
       "type             0\n",
       "title            0\n",
       "director         0\n",
       "cast             0\n",
       "country          0\n",
       "date_added      10\n",
       "release_year     0\n",
       "rating           4\n",
       "duration         3\n",
       "listed_in        0\n",
       "description      0\n",
       "dtype: int64"
      ]
     },
     "execution_count": 6,
     "metadata": {},
     "output_type": "execute_result"
    }
   ],
   "source": [
    "data['director'].replace(np.nan, 'No Director',inplace=True)\n",
    "data['cast'].replace(np.nan, 'No Cast',inplace=True)\n",
    "data['country'].replace(np.nan, 'Not Specify',inplace=True)\n",
    "data.isnull().sum()"
   ]
  },
  {
   "cell_type": "code",
   "execution_count": 7,
   "id": "756c4b0e",
   "metadata": {},
   "outputs": [
    {
     "data": {
      "text/plain": [
       "type            0\n",
       "title           0\n",
       "director        0\n",
       "cast            0\n",
       "country         0\n",
       "date_added      0\n",
       "release_year    0\n",
       "rating          0\n",
       "duration        0\n",
       "listed_in       0\n",
       "description     0\n",
       "dtype: int64"
      ]
     },
     "execution_count": 7,
     "metadata": {},
     "output_type": "execute_result"
    }
   ],
   "source": [
    "data = data.dropna()\n",
    "data.isnull().sum()"
   ]
  },
  {
   "cell_type": "code",
   "execution_count": 8,
   "id": "ec112ad8",
   "metadata": {},
   "outputs": [
    {
     "name": "stdout",
     "output_type": "stream",
     "text": [
      "---------------------------------------------\n",
      "\n",
      "Statstical information about given data \n",
      "\n",
      "---------------------------------------------\n"
     ]
    },
    {
     "data": {
      "text/html": [
       "<div>\n",
       "<style scoped>\n",
       "    .dataframe tbody tr th:only-of-type {\n",
       "        vertical-align: middle;\n",
       "    }\n",
       "\n",
       "    .dataframe tbody tr th {\n",
       "        vertical-align: top;\n",
       "    }\n",
       "\n",
       "    .dataframe thead th {\n",
       "        text-align: right;\n",
       "    }\n",
       "</style>\n",
       "<table border=\"1\" class=\"dataframe\">\n",
       "  <thead>\n",
       "    <tr style=\"text-align: right;\">\n",
       "      <th></th>\n",
       "      <th>release_year</th>\n",
       "    </tr>\n",
       "  </thead>\n",
       "  <tbody>\n",
       "    <tr>\n",
       "      <th>count</th>\n",
       "      <td>8790.000000</td>\n",
       "    </tr>\n",
       "    <tr>\n",
       "      <th>mean</th>\n",
       "      <td>2014.183163</td>\n",
       "    </tr>\n",
       "    <tr>\n",
       "      <th>std</th>\n",
       "      <td>8.825466</td>\n",
       "    </tr>\n",
       "    <tr>\n",
       "      <th>min</th>\n",
       "      <td>1925.000000</td>\n",
       "    </tr>\n",
       "    <tr>\n",
       "      <th>25%</th>\n",
       "      <td>2013.000000</td>\n",
       "    </tr>\n",
       "    <tr>\n",
       "      <th>50%</th>\n",
       "      <td>2017.000000</td>\n",
       "    </tr>\n",
       "    <tr>\n",
       "      <th>75%</th>\n",
       "      <td>2019.000000</td>\n",
       "    </tr>\n",
       "    <tr>\n",
       "      <th>max</th>\n",
       "      <td>2021.000000</td>\n",
       "    </tr>\n",
       "  </tbody>\n",
       "</table>\n",
       "</div>"
      ],
      "text/plain": [
       "       release_year\n",
       "count   8790.000000\n",
       "mean    2014.183163\n",
       "std        8.825466\n",
       "min     1925.000000\n",
       "25%     2013.000000\n",
       "50%     2017.000000\n",
       "75%     2019.000000\n",
       "max     2021.000000"
      ]
     },
     "execution_count": 8,
     "metadata": {},
     "output_type": "execute_result"
    }
   ],
   "source": [
    "print('-' * 45)\n",
    "print(\"\\nStatstical information about given data \\n\")\n",
    "print('-' * 45)\n",
    "data.describe()"
   ]
  },
  {
   "cell_type": "code",
   "execution_count": 9,
   "id": "0b82b9b8",
   "metadata": {},
   "outputs": [
    {
     "name": "stdout",
     "output_type": "stream",
     "text": [
      "\n",
      "Check Duplicates\n"
     ]
    },
    {
     "data": {
      "text/plain": [
       "0"
      ]
     },
     "execution_count": 9,
     "metadata": {},
     "output_type": "execute_result"
    }
   ],
   "source": [
    "print(\"\\nCheck Duplicates\")\n",
    "data.duplicated().sum()"
   ]
  },
  {
   "cell_type": "markdown",
   "id": "6d0a39aa",
   "metadata": {},
   "source": [
    "# Show Type of content \n",
    "# <div style=\"font-family: Trebuchet MS; background-color: #6C935C; color: #FFFFFF; padding: 12px; line-height: 1.5;\">Importing Libraries</div>\n",
    "<div style=\"font-family: Segoe UI; line-height: 2; color: #000000; text-align: justify\">\n",
    "    👉 <b>Importing libraries</b> that used in notebook.\n",
    "</div>"
   ]
  },
  {
   "cell_type": "code",
   "execution_count": 10,
   "id": "fda0d180",
   "metadata": {},
   "outputs": [
    {
     "data": {
      "text/plain": [
       "Movie      6126\n",
       "TV Show    2664\n",
       "Name: type, dtype: int64"
      ]
     },
     "execution_count": 10,
     "metadata": {},
     "output_type": "execute_result"
    }
   ],
   "source": [
    "data['type'].value_counts()"
   ]
  },
  {
   "cell_type": "code",
   "execution_count": 11,
   "id": "36eafb1f",
   "metadata": {},
   "outputs": [
    {
     "data": {
      "text/html": [
       "\n",
       "<script>\n",
       "    require.config({\n",
       "        paths: {\n",
       "            'chartXkcd':'https://cdn.jsdelivr.net/npm/chart.xkcd@1.1/dist/chart.xkcd.min'\n",
       "        }\n",
       "    });\n",
       "</script>\n",
       "\n",
       "<div id=\"1be579e29e68402aaa9d714d823edbd2\" class=\"chart-container\" style=\"width: 720px\">\n",
       "        <svg id=\"chart_1be579e29e68402aaa9d714d823edbd2\"></svg>\n",
       "    </div>\n",
       "    <script>\n",
       "        require(['chartXkcd'], function(chartXkcd) {\n",
       "            const svg_1be579e29e68402aaa9d714d823edbd2 = document.querySelector('#chart_1be579e29e68402aaa9d714d823edbd2')\n",
       "            const chart_1be579e29e68402aaa9d714d823edbd2 = new chartXkcd.Pie(svg_1be579e29e68402aaa9d714d823edbd2, {\"title\": \"Payment Method Category\", \"data\": {\"datasets\": [{\"data\": [6126, 2664]}], \"labels\": [\"Movie\", \"TV Show\"]}, \"options\": {\"innerRadius\": 0, \"legendPosition\": 1, \"dataColors\": [\"#ee333c\", \"#168ab5\"]}});\n",
       "        })\n",
       "    </script>\n"
      ],
      "text/plain": [
       "<cutecharts.render.engine.HTML at 0x1f29e9d6070>"
      ]
     },
     "execution_count": 11,
     "metadata": {},
     "output_type": "execute_result"
    }
   ],
   "source": [
    "t_values = data['type'].value_counts()\n",
    "t_labels = data['type'].unique()\n",
    "\n",
    "# pie chart \n",
    "pie = ctc.Pie('Payment Method Category', # title\n",
    "              width='720px',height='720px')\n",
    "\n",
    "# set the chart options\n",
    "pie.set_options(labels=list(t_labels), # country names as labels\n",
    "                inner_radius=0,                  # inner radius set to 0\n",
    "                colors=['#ee333c','#168ab5'])\n",
    "\n",
    "# label to be shown on graph\n",
    "pie.add_series(list(t_values)) \n",
    "\n",
    "# display the charts\n",
    "pie.render_notebook()\n"
   ]
  },
  {
   "cell_type": "markdown",
   "id": "07391a99",
   "metadata": {},
   "source": [
    "<h4>It is evident that there are more Movies on Netflix than TV shows."
   ]
  },
  {
   "cell_type": "code",
   "execution_count": 12,
   "id": "741fbc4d",
   "metadata": {},
   "outputs": [],
   "source": [
    "#data['duration'].nunique()"
   ]
  },
  {
   "cell_type": "code",
   "execution_count": 13,
   "id": "da9165bc",
   "metadata": {},
   "outputs": [
    {
     "data": {
      "text/plain": [
       "TV-MA       3205\n",
       "TV-14       2157\n",
       "TV-PG        861\n",
       "R            799\n",
       "PG-13        490\n",
       "TV-Y7        333\n",
       "TV-Y         306\n",
       "PG           287\n",
       "TV-G         220\n",
       "NR            79\n",
       "G             41\n",
       "TV-Y7-FV       6\n",
       "NC-17          3\n",
       "UR             3\n",
       "Name: rating, dtype: int64"
      ]
     },
     "execution_count": 13,
     "metadata": {},
     "output_type": "execute_result"
    }
   ],
   "source": [
    "data.rating.value_counts()"
   ]
  },
  {
   "cell_type": "code",
   "execution_count": 14,
   "id": "8f981b68",
   "metadata": {},
   "outputs": [],
   "source": [
    "newdata = data.groupby('rating').size().rename_axis('Rating').reset_index(name='Count')\n",
    "nd = newdata.sort_values(by ='Count', ascending=True)\n",
    "nd = nd.tail(5)"
   ]
  },
  {
   "cell_type": "code",
   "execution_count": 15,
   "id": "3c14b46a",
   "metadata": {},
   "outputs": [
    {
     "data": {
      "text/html": [
       "\n",
       "<script>\n",
       "    require.config({\n",
       "        paths: {\n",
       "            'chartXkcd':'https://cdn.jsdelivr.net/npm/chart.xkcd@1.1/dist/chart.xkcd.min'\n",
       "        }\n",
       "    });\n",
       "</script>\n",
       "\n",
       "<div id=\"1c8d4fcfb6b64414960352face960a31\" class=\"chart-container\" style=\"width: 600px\">\n",
       "        <svg id=\"chart_1c8d4fcfb6b64414960352face960a31\"></svg>\n",
       "    </div>\n",
       "    <script>\n",
       "        require(['chartXkcd'], function(chartXkcd) {\n",
       "            const svg_1c8d4fcfb6b64414960352face960a31 = document.querySelector('#chart_1c8d4fcfb6b64414960352face960a31')\n",
       "            const chart_1c8d4fcfb6b64414960352face960a31 = new chartXkcd.Bar(svg_1c8d4fcfb6b64414960352face960a31, {\"title\": \"Payment Method Category\", \"data\": {\"datasets\": [{\"label\": \"Geners\", \"data\": [490, 799, 861, 2157, 3205]}], \"labels\": [\"PG-13\", \"R\", \"TV-PG\", \"TV-14\", \"TV-MA\"]}, \"xLabel\": \"Category\", \"yLabel\": \"Count\", \"options\": {\"yTickCount\": 3, \"dataColors\": [\"#c23531\", \"#2f4554\", \"#61a0a8\", \"#d48265\", \"#749f83\", \"#ca8622\", \"#bda29a\"]}});\n",
       "        })\n",
       "    </script>\n"
      ],
      "text/plain": [
       "<cutecharts.render.engine.HTML at 0x1f29e9a8df0>"
      ]
     },
     "execution_count": 15,
     "metadata": {},
     "output_type": "execute_result"
    }
   ],
   "source": [
    "colors=['#FFF1C9', '#F7B7A3', '#EA5F89', '#9B3192', '#57167E', '#47B39C','#00529B']\n",
    "\n",
    "chart = ctc.Bar('Payment Method Category', width='600px', height='200px')\n",
    "\n",
    "chart.set_options(labels=list(nd.Rating),\n",
    "\n",
    "            x_label='Category',\n",
    "\n",
    "            y_label='Count',   \n",
    "\n",
    "            colors=Faker.colors\n",
    ")\n",
    "\n",
    "chart.add_series('Geners',list(nd['Count']))\n",
    "\n",
    "chart.render_notebook()"
   ]
  },
  {
   "cell_type": "markdown",
   "id": "85175047",
   "metadata": {},
   "source": [
    "# Top Directors"
   ]
  },
  {
   "cell_type": "code",
   "execution_count": 16,
   "id": "a90098e4",
   "metadata": {
    "scrolled": true
   },
   "outputs": [
    {
     "data": {
      "text/plain": [
       "0     0    Kirsten Johnson\n",
       "1     0        No Director\n",
       "2     0    Julien Leclercq\n",
       "3     0        No Director\n",
       "4     0        No Director\n",
       "                ...       \n",
       "8802  0      David Fincher\n",
       "8803  0        No Director\n",
       "8804  0    Ruben Fleischer\n",
       "8805  0       Peter Hewitt\n",
       "8806  0        Mozez Singh\n",
       "Length: 9595, dtype: object"
      ]
     },
     "execution_count": 16,
     "metadata": {},
     "output_type": "execute_result"
    }
   ],
   "source": [
    "fil_directors = data['director'].str.split(',',expand=True).stack()\n",
    "fil_directors"
   ]
  },
  {
   "cell_type": "code",
   "execution_count": 17,
   "id": "c4d5a2a9",
   "metadata": {},
   "outputs": [
    {
     "data": {
      "text/html": [
       "<div>\n",
       "<style scoped>\n",
       "    .dataframe tbody tr th:only-of-type {\n",
       "        vertical-align: middle;\n",
       "    }\n",
       "\n",
       "    .dataframe tbody tr th {\n",
       "        vertical-align: top;\n",
       "    }\n",
       "\n",
       "    .dataframe thead th {\n",
       "        text-align: right;\n",
       "    }\n",
       "</style>\n",
       "<table border=\"1\" class=\"dataframe\">\n",
       "  <thead>\n",
       "    <tr style=\"text-align: right;\">\n",
       "      <th></th>\n",
       "      <th>director</th>\n",
       "      <th>counts</th>\n",
       "    </tr>\n",
       "  </thead>\n",
       "  <tbody>\n",
       "    <tr>\n",
       "      <th>4019</th>\n",
       "      <td>Rajiv Chilaka</td>\n",
       "      <td>22</td>\n",
       "    </tr>\n",
       "    <tr>\n",
       "      <th>4066</th>\n",
       "      <td>Raúl Campos</td>\n",
       "      <td>18</td>\n",
       "    </tr>\n",
       "    <tr>\n",
       "      <th>261</th>\n",
       "      <td>Jan Suter</td>\n",
       "      <td>18</td>\n",
       "    </tr>\n",
       "    <tr>\n",
       "      <th>4650</th>\n",
       "      <td>Suhas Kadav</td>\n",
       "      <td>16</td>\n",
       "    </tr>\n",
       "    <tr>\n",
       "      <th>3233</th>\n",
       "      <td>Marcus Raboy</td>\n",
       "      <td>16</td>\n",
       "    </tr>\n",
       "  </tbody>\n",
       "</table>\n",
       "</div>"
      ],
      "text/plain": [
       "           director  counts\n",
       "4019  Rajiv Chilaka      22\n",
       "4066    Raúl Campos      18\n",
       "261       Jan Suter      18\n",
       "4650    Suhas Kadav      16\n",
       "3233   Marcus Raboy      16"
      ]
     },
     "execution_count": 17,
     "metadata": {},
     "output_type": "execute_result"
    }
   ],
   "source": [
    "fil_directors= pd.DataFrame(fil_directors)\n",
    "fil_directors.columns = ['director']\n",
    "directors = fil_directors.groupby(['director']).size().reset_index(name='counts')\n",
    "directors = directors.sort_values(by='counts',ascending=False)\n",
    "directors = directors[directors['director'] != 'No Director']\n",
    "directors = directors.head(5)\n",
    "directors"
   ]
  },
  {
   "cell_type": "code",
   "execution_count": 18,
   "id": "5cbc15ae",
   "metadata": {},
   "outputs": [
    {
     "data": {
      "text/html": [
       "\n",
       "<script>\n",
       "    require.config({\n",
       "        paths: {\n",
       "            'chartXkcd':'https://cdn.jsdelivr.net/npm/chart.xkcd@1.1/dist/chart.xkcd.min'\n",
       "        }\n",
       "    });\n",
       "</script>\n",
       "\n",
       "<div id=\"e5d151725a6248bb97b9f9c5fd1edb62\" class=\"chart-container\" style=\"width: 600px\">\n",
       "        <svg id=\"chart_e5d151725a6248bb97b9f9c5fd1edb62\"></svg>\n",
       "    </div>\n",
       "    <script>\n",
       "        require(['chartXkcd'], function(chartXkcd) {\n",
       "            const svg_e5d151725a6248bb97b9f9c5fd1edb62 = document.querySelector('#chart_e5d151725a6248bb97b9f9c5fd1edb62')\n",
       "            const chart_e5d151725a6248bb97b9f9c5fd1edb62 = new chartXkcd.Bar(svg_e5d151725a6248bb97b9f9c5fd1edb62, {\"title\": \"Top Five Director\", \"data\": {\"datasets\": [{\"label\": \"Geners\", \"data\": [22, 18, 18, 16, 16]}], \"labels\": [\"Rajiv Chilaka\", \"Ra\\u00fal Campos\", \" Jan Suter\", \"Suhas Kadav\", \"Marcus Raboy\"]}, \"xLabel\": \"Director\", \"yLabel\": \"Number of Movie\", \"options\": {\"yTickCount\": 3, \"dataColors\": [\"#c23531\", \"#2f4554\", \"#61a0a8\", \"#d48265\", \"#749f83\", \"#ca8622\", \"#bda29a\"]}});\n",
       "        })\n",
       "    </script>\n"
      ],
      "text/plain": [
       "<cutecharts.render.engine.HTML at 0x1f29e9bef40>"
      ]
     },
     "execution_count": 18,
     "metadata": {},
     "output_type": "execute_result"
    }
   ],
   "source": [
    "colors=['#FFF1C9', '#F7B7A3', '#EA5F89', '#9B3192', '#57167E', '#47B39C','#00529B']\n",
    "\n",
    "chart = ctc.Bar('Top Five Director', width='600px', height='200px')\n",
    "\n",
    "chart.set_options(labels=list(directors.director),x_label='Director',y_label='Number of Movie', colors=Faker.colors)\n",
    "\n",
    "chart.add_series('Geners',list(directors.counts))\n",
    "\n",
    "chart.render_notebook()\n"
   ]
  },
  {
   "cell_type": "code",
   "execution_count": 19,
   "id": "ce49097f",
   "metadata": {},
   "outputs": [],
   "source": [
    "r_year = data['release_year'].value_counts()"
   ]
  },
  {
   "cell_type": "code",
   "execution_count": 20,
   "id": "8839aaaf",
   "metadata": {},
   "outputs": [],
   "source": [
    "r_year= pd.DataFrame(r_year)\n"
   ]
  },
  {
   "cell_type": "code",
   "execution_count": 21,
   "id": "f4481012",
   "metadata": {},
   "outputs": [],
   "source": [
    "r_yearw = data.groupby(['release_year']).size().reset_index(name='counts')"
   ]
  },
  {
   "cell_type": "code",
   "execution_count": 22,
   "id": "909fdce5",
   "metadata": {},
   "outputs": [
    {
     "data": {
      "text/html": [
       "<div>\n",
       "<style scoped>\n",
       "    .dataframe tbody tr th:only-of-type {\n",
       "        vertical-align: middle;\n",
       "    }\n",
       "\n",
       "    .dataframe tbody tr th {\n",
       "        vertical-align: top;\n",
       "    }\n",
       "\n",
       "    .dataframe thead th {\n",
       "        text-align: right;\n",
       "    }\n",
       "</style>\n",
       "<table border=\"1\" class=\"dataframe\">\n",
       "  <thead>\n",
       "    <tr style=\"text-align: right;\">\n",
       "      <th></th>\n",
       "      <th>title</th>\n",
       "      <th>release_year</th>\n",
       "    </tr>\n",
       "  </thead>\n",
       "  <tbody>\n",
       "    <tr>\n",
       "      <th>4250</th>\n",
       "      <td>Pioneers: First Women Filmmakers*</td>\n",
       "      <td>1925</td>\n",
       "    </tr>\n",
       "    <tr>\n",
       "      <th>7790</th>\n",
       "      <td>Prelude to War</td>\n",
       "      <td>1942</td>\n",
       "    </tr>\n",
       "    <tr>\n",
       "      <th>8205</th>\n",
       "      <td>The Battle of Midway</td>\n",
       "      <td>1942</td>\n",
       "    </tr>\n",
       "    <tr>\n",
       "      <th>8763</th>\n",
       "      <td>WWII: Report from the Aleutians</td>\n",
       "      <td>1943</td>\n",
       "    </tr>\n",
       "    <tr>\n",
       "      <th>8739</th>\n",
       "      <td>Why We Fight: The Battle of Russia</td>\n",
       "      <td>1943</td>\n",
       "    </tr>\n",
       "    <tr>\n",
       "      <th>8660</th>\n",
       "      <td>Undercover: How to Operate Behind Enemy Lines</td>\n",
       "      <td>1943</td>\n",
       "    </tr>\n",
       "    <tr>\n",
       "      <th>8419</th>\n",
       "      <td>The Memphis Belle: A Story of a\\nFlying Fortress</td>\n",
       "      <td>1944</td>\n",
       "    </tr>\n",
       "    <tr>\n",
       "      <th>8640</th>\n",
       "      <td>Tunisian Victory</td>\n",
       "      <td>1944</td>\n",
       "    </tr>\n",
       "    <tr>\n",
       "      <th>8436</th>\n",
       "      <td>The Negro Soldier</td>\n",
       "      <td>1944</td>\n",
       "    </tr>\n",
       "    <tr>\n",
       "      <th>7575</th>\n",
       "      <td>Nazi Concentration Camps</td>\n",
       "      <td>1945</td>\n",
       "    </tr>\n",
       "  </tbody>\n",
       "</table>\n",
       "</div>"
      ],
      "text/plain": [
       "                                                 title  release_year\n",
       "4250                 Pioneers: First Women Filmmakers*          1925\n",
       "7790                                    Prelude to War          1942\n",
       "8205                              The Battle of Midway          1942\n",
       "8763                   WWII: Report from the Aleutians          1943\n",
       "8739                Why We Fight: The Battle of Russia          1943\n",
       "8660     Undercover: How to Operate Behind Enemy Lines          1943\n",
       "8419  The Memphis Belle: A Story of a\\nFlying Fortress          1944\n",
       "8640                                  Tunisian Victory          1944\n",
       "8436                                 The Negro Soldier          1944\n",
       "7575                          Nazi Concentration Camps          1945"
      ]
     },
     "execution_count": 22,
     "metadata": {},
     "output_type": "execute_result"
    }
   ],
   "source": [
    "oldest_r = data.sort_values(\"release_year\", ascending = True)\n",
    "oldest_r = oldest_r[oldest_r['duration'] != \"\"]\n",
    "oldest_r[['title', \"release_year\"]][:10]"
   ]
  },
  {
   "cell_type": "code",
   "execution_count": 23,
   "id": "e6c10b6e",
   "metadata": {},
   "outputs": [
    {
     "data": {
      "text/html": [
       "<div>\n",
       "<style scoped>\n",
       "    .dataframe tbody tr th:only-of-type {\n",
       "        vertical-align: middle;\n",
       "    }\n",
       "\n",
       "    .dataframe tbody tr th {\n",
       "        vertical-align: top;\n",
       "    }\n",
       "\n",
       "    .dataframe thead th {\n",
       "        text-align: right;\n",
       "    }\n",
       "</style>\n",
       "<table border=\"1\" class=\"dataframe\">\n",
       "  <thead>\n",
       "    <tr style=\"text-align: right;\">\n",
       "      <th></th>\n",
       "      <th>title</th>\n",
       "      <th>release_year</th>\n",
       "    </tr>\n",
       "  </thead>\n",
       "  <tbody>\n",
       "    <tr>\n",
       "      <th>693</th>\n",
       "      <td>Ali &amp; Ratu Ratu Queens</td>\n",
       "      <td>2021</td>\n",
       "    </tr>\n",
       "    <tr>\n",
       "      <th>781</th>\n",
       "      <td>Black Holes | The Edge of All We Know</td>\n",
       "      <td>2021</td>\n",
       "    </tr>\n",
       "    <tr>\n",
       "      <th>762</th>\n",
       "      <td>Sweet &amp; Sour</td>\n",
       "      <td>2021</td>\n",
       "    </tr>\n",
       "    <tr>\n",
       "      <th>763</th>\n",
       "      <td>Sweet Tooth</td>\n",
       "      <td>2021</td>\n",
       "    </tr>\n",
       "    <tr>\n",
       "      <th>764</th>\n",
       "      <td>Trippin' with the Kandasamys</td>\n",
       "      <td>2021</td>\n",
       "    </tr>\n",
       "    <tr>\n",
       "      <th>765</th>\n",
       "      <td>Xtreme</td>\n",
       "      <td>2021</td>\n",
       "    </tr>\n",
       "    <tr>\n",
       "      <th>766</th>\n",
       "      <td>Alan Saldaña: Locked Up</td>\n",
       "      <td>2021</td>\n",
       "    </tr>\n",
       "    <tr>\n",
       "      <th>767</th>\n",
       "      <td>Creator's File: GOLD</td>\n",
       "      <td>2021</td>\n",
       "    </tr>\n",
       "    <tr>\n",
       "      <th>768</th>\n",
       "      <td>Dancing Queens</td>\n",
       "      <td>2021</td>\n",
       "    </tr>\n",
       "    <tr>\n",
       "      <th>770</th>\n",
       "      <td>Myriam Fares: The Journey</td>\n",
       "      <td>2021</td>\n",
       "    </tr>\n",
       "  </tbody>\n",
       "</table>\n",
       "</div>"
      ],
      "text/plain": [
       "                                     title  release_year\n",
       "693                 Ali & Ratu Ratu Queens          2021\n",
       "781  Black Holes | The Edge of All We Know          2021\n",
       "762                           Sweet & Sour          2021\n",
       "763                            Sweet Tooth          2021\n",
       "764           Trippin' with the Kandasamys          2021\n",
       "765                                 Xtreme          2021\n",
       "766                Alan Saldaña: Locked Up          2021\n",
       "767                   Creator's File: GOLD          2021\n",
       "768                         Dancing Queens          2021\n",
       "770              Myriam Fares: The Journey          2021"
      ]
     },
     "execution_count": 23,
     "metadata": {},
     "output_type": "execute_result"
    }
   ],
   "source": [
    "new_r = data.sort_values(\"release_year\", ascending = False)\n",
    "new_r = new_r[new_r['duration'] != \"\"]\n",
    "new_r[['title', \"release_year\"]][:10]"
   ]
  },
  {
   "cell_type": "markdown",
   "id": "176a5a56",
   "metadata": {},
   "source": [
    "### Distribution of Content"
   ]
  },
  {
   "cell_type": "code",
   "execution_count": 24,
   "id": "d80d40b5",
   "metadata": {},
   "outputs": [
    {
     "data": {
      "text/html": [
       "<div>\n",
       "<style scoped>\n",
       "    .dataframe tbody tr th:only-of-type {\n",
       "        vertical-align: middle;\n",
       "    }\n",
       "\n",
       "    .dataframe tbody tr th {\n",
       "        vertical-align: top;\n",
       "    }\n",
       "\n",
       "    .dataframe thead th {\n",
       "        text-align: right;\n",
       "    }\n",
       "</style>\n",
       "<table border=\"1\" class=\"dataframe\">\n",
       "  <thead>\n",
       "    <tr style=\"text-align: right;\">\n",
       "      <th></th>\n",
       "      <th>cast</th>\n",
       "      <th>counts</th>\n",
       "    </tr>\n",
       "  </thead>\n",
       "  <tbody>\n",
       "    <tr>\n",
       "      <th>2605</th>\n",
       "      <td>Anupam Kher</td>\n",
       "      <td>39</td>\n",
       "    </tr>\n",
       "    <tr>\n",
       "      <th>26903</th>\n",
       "      <td>Rupa Bhimani</td>\n",
       "      <td>31</td>\n",
       "    </tr>\n",
       "    <tr>\n",
       "      <th>30263</th>\n",
       "      <td>Takahiro Sakurai</td>\n",
       "      <td>30</td>\n",
       "    </tr>\n",
       "    <tr>\n",
       "      <th>15518</th>\n",
       "      <td>Julie Tejwani</td>\n",
       "      <td>28</td>\n",
       "    </tr>\n",
       "    <tr>\n",
       "      <th>23591</th>\n",
       "      <td>Om Puri</td>\n",
       "      <td>27</td>\n",
       "    </tr>\n",
       "    <tr>\n",
       "      <th>38399</th>\n",
       "      <td>Shah Rukh Khan</td>\n",
       "      <td>26</td>\n",
       "    </tr>\n",
       "    <tr>\n",
       "      <th>25374</th>\n",
       "      <td>Rajesh Kava</td>\n",
       "      <td>26</td>\n",
       "    </tr>\n",
       "    <tr>\n",
       "      <th>33324</th>\n",
       "      <td>Yuki Kaji</td>\n",
       "      <td>25</td>\n",
       "    </tr>\n",
       "    <tr>\n",
       "      <th>4178</th>\n",
       "      <td>Boman Irani</td>\n",
       "      <td>25</td>\n",
       "    </tr>\n",
       "    <tr>\n",
       "      <th>1900</th>\n",
       "      <td>Andrea Libman</td>\n",
       "      <td>25</td>\n",
       "    </tr>\n",
       "  </tbody>\n",
       "</table>\n",
       "</div>"
      ],
      "text/plain": [
       "                    cast  counts\n",
       "2605         Anupam Kher      39\n",
       "26903       Rupa Bhimani      31\n",
       "30263   Takahiro Sakurai      30\n",
       "15518      Julie Tejwani      28\n",
       "23591            Om Puri      27\n",
       "38399     Shah Rukh Khan      26\n",
       "25374        Rajesh Kava      26\n",
       "33324          Yuki Kaji      25\n",
       "4178         Boman Irani      25\n",
       "1900       Andrea Libman      25"
      ]
     },
     "execution_count": 24,
     "metadata": {},
     "output_type": "execute_result"
    }
   ],
   "source": [
    "fil_actors = data['cast'].str.split(',',expand=True).stack()\n",
    "fil_actors= pd.DataFrame(fil_actors)\n",
    "fil_actors.columns = ['cast']\n",
    "actors = fil_actors.groupby(['cast']).size().reset_index(name='counts')\n",
    "actors = actors.sort_values(by='counts',ascending=False)\n",
    "actors = actors[actors['cast'] != 'No Cast']\n",
    "actors = actors.head(10)\n",
    "actors"
   ]
  },
  {
   "cell_type": "code",
   "execution_count": 25,
   "id": "fa9716ab",
   "metadata": {},
   "outputs": [
    {
     "data": {
      "image/png": "[encoded data removed]",
      "text/plain": [
       "<Figure size 600x400 with 1 Axes>"
      ]
     },
     "metadata": {},
     "output_type": "display_data"
    }
   ],
   "source": [
    "plt.figure(figsize=(6,4))\n",
    "# Create bars with blue edge color\n",
    "barplot1 = plt.bar(actors.cast, actors.counts, color=['navajowhite'],  edgecolor='red',align='center')\n",
    "plt.xticks(rotation=45)\n",
    "# Add title\n",
    "plt.bar_label(barplot1, labels = actors.counts, label_type=\"edge\")\n",
    "plt.title('Top Five Directors',)\n",
    "# Show graph\n",
    "plt.show()"
   ]
  },
  {
   "cell_type": "code",
   "execution_count": null,
   "id": "13b60bc5",
   "metadata": {},
   "outputs": [],
   "source": []
  },
  {
   "cell_type": "code",
   "execution_count": 26,
   "id": "579c1f44",
   "metadata": {
    "scrolled": true
   },
   "outputs": [
    {
     "data": {
      "text/html": [
       "<div>\n",
       "<style scoped>\n",
       "    .dataframe tbody tr th:only-of-type {\n",
       "        vertical-align: middle;\n",
       "    }\n",
       "\n",
       "    .dataframe tbody tr th {\n",
       "        vertical-align: top;\n",
       "    }\n",
       "\n",
       "    .dataframe thead th {\n",
       "        text-align: right;\n",
       "    }\n",
       "</style>\n",
       "<table border=\"1\" class=\"dataframe\">\n",
       "  <thead>\n",
       "    <tr style=\"text-align: right;\">\n",
       "      <th></th>\n",
       "      <th>Release Year</th>\n",
       "      <th>type</th>\n",
       "      <th>Total Content</th>\n",
       "    </tr>\n",
       "  </thead>\n",
       "  <tbody>\n",
       "    <tr>\n",
       "      <th>95</th>\n",
       "      <td>2010</td>\n",
       "      <td>Movie</td>\n",
       "      <td>153</td>\n",
       "    </tr>\n",
       "    <tr>\n",
       "      <th>96</th>\n",
       "      <td>2010</td>\n",
       "      <td>TV Show</td>\n",
       "      <td>39</td>\n",
       "    </tr>\n",
       "    <tr>\n",
       "      <th>97</th>\n",
       "      <td>2011</td>\n",
       "      <td>Movie</td>\n",
       "      <td>145</td>\n",
       "    </tr>\n",
       "    <tr>\n",
       "      <th>98</th>\n",
       "      <td>2011</td>\n",
       "      <td>TV Show</td>\n",
       "      <td>40</td>\n",
       "    </tr>\n",
       "    <tr>\n",
       "      <th>99</th>\n",
       "      <td>2012</td>\n",
       "      <td>Movie</td>\n",
       "      <td>173</td>\n",
       "    </tr>\n",
       "  </tbody>\n",
       "</table>\n",
       "</div>"
      ],
      "text/plain": [
       "    Release Year     type  Total Content\n",
       "95          2010    Movie            153\n",
       "96          2010  TV Show             39\n",
       "97          2011    Movie            145\n",
       "98          2011  TV Show             40\n",
       "99          2012    Movie            173"
      ]
     },
     "execution_count": 26,
     "metadata": {},
     "output_type": "execute_result"
    }
   ],
   "source": [
    "dff = data[['type','release_year']]\n",
    "dff = dff.rename(columns = {'release_year' : 'Release Year'})\n",
    "dff2 = dff.groupby(['Release Year','type']).size().reset_index(name='Total Content')\n",
    "dff2 = dff2[dff2['Release Year']>=2010]\n",
    "dff2.head()"
   ]
  },
  {
   "cell_type": "code",
   "execution_count": 27,
   "id": "8735d30c",
   "metadata": {},
   "outputs": [],
   "source": [
    "dff3 = dff2[dff2['type']=='Movie']\n",
    "\n",
    "dff4 = dff2[dff2['type']=='TV Show']"
   ]
  },
  {
   "cell_type": "code",
   "execution_count": 28,
   "id": "46f9c253",
   "metadata": {},
   "outputs": [
    {
     "data": {
      "text/html": [
       "<div>\n",
       "<style scoped>\n",
       "    .dataframe tbody tr th:only-of-type {\n",
       "        vertical-align: middle;\n",
       "    }\n",
       "\n",
       "    .dataframe tbody tr th {\n",
       "        vertical-align: top;\n",
       "    }\n",
       "\n",
       "    .dataframe thead th {\n",
       "        text-align: right;\n",
       "    }\n",
       "</style>\n",
       "<table border=\"1\" class=\"dataframe\">\n",
       "  <thead>\n",
       "    <tr style=\"text-align: right;\">\n",
       "      <th></th>\n",
       "      <th>Release Year</th>\n",
       "      <th>type</th>\n",
       "      <th>Total Content</th>\n",
       "    </tr>\n",
       "  </thead>\n",
       "  <tbody>\n",
       "    <tr>\n",
       "      <th>95</th>\n",
       "      <td>2010</td>\n",
       "      <td>Movie</td>\n",
       "      <td>153</td>\n",
       "    </tr>\n",
       "    <tr>\n",
       "      <th>97</th>\n",
       "      <td>2011</td>\n",
       "      <td>Movie</td>\n",
       "      <td>145</td>\n",
       "    </tr>\n",
       "    <tr>\n",
       "      <th>99</th>\n",
       "      <td>2012</td>\n",
       "      <td>Movie</td>\n",
       "      <td>173</td>\n",
       "    </tr>\n",
       "    <tr>\n",
       "      <th>101</th>\n",
       "      <td>2013</td>\n",
       "      <td>Movie</td>\n",
       "      <td>225</td>\n",
       "    </tr>\n",
       "    <tr>\n",
       "      <th>103</th>\n",
       "      <td>2014</td>\n",
       "      <td>Movie</td>\n",
       "      <td>264</td>\n",
       "    </tr>\n",
       "    <tr>\n",
       "      <th>105</th>\n",
       "      <td>2015</td>\n",
       "      <td>Movie</td>\n",
       "      <td>396</td>\n",
       "    </tr>\n",
       "    <tr>\n",
       "      <th>107</th>\n",
       "      <td>2016</td>\n",
       "      <td>Movie</td>\n",
       "      <td>658</td>\n",
       "    </tr>\n",
       "    <tr>\n",
       "      <th>109</th>\n",
       "      <td>2017</td>\n",
       "      <td>Movie</td>\n",
       "      <td>765</td>\n",
       "    </tr>\n",
       "    <tr>\n",
       "      <th>111</th>\n",
       "      <td>2018</td>\n",
       "      <td>Movie</td>\n",
       "      <td>767</td>\n",
       "    </tr>\n",
       "    <tr>\n",
       "      <th>113</th>\n",
       "      <td>2019</td>\n",
       "      <td>Movie</td>\n",
       "      <td>633</td>\n",
       "    </tr>\n",
       "    <tr>\n",
       "      <th>115</th>\n",
       "      <td>2020</td>\n",
       "      <td>Movie</td>\n",
       "      <td>517</td>\n",
       "    </tr>\n",
       "    <tr>\n",
       "      <th>117</th>\n",
       "      <td>2021</td>\n",
       "      <td>Movie</td>\n",
       "      <td>277</td>\n",
       "    </tr>\n",
       "  </tbody>\n",
       "</table>\n",
       "</div>"
      ],
      "text/plain": [
       "     Release Year   type  Total Content\n",
       "95           2010  Movie            153\n",
       "97           2011  Movie            145\n",
       "99           2012  Movie            173\n",
       "101          2013  Movie            225\n",
       "103          2014  Movie            264\n",
       "105          2015  Movie            396\n",
       "107          2016  Movie            658\n",
       "109          2017  Movie            765\n",
       "111          2018  Movie            767\n",
       "113          2019  Movie            633\n",
       "115          2020  Movie            517\n",
       "117          2021  Movie            277"
      ]
     },
     "execution_count": 28,
     "metadata": {},
     "output_type": "execute_result"
    }
   ],
   "source": [
    "dff3"
   ]
  },
  {
   "cell_type": "code",
   "execution_count": 29,
   "id": "895741bd",
   "metadata": {},
   "outputs": [
    {
     "data": {
      "text/html": [
       "<div>\n",
       "<style scoped>\n",
       "    .dataframe tbody tr th:only-of-type {\n",
       "        vertical-align: middle;\n",
       "    }\n",
       "\n",
       "    .dataframe tbody tr th {\n",
       "        vertical-align: top;\n",
       "    }\n",
       "\n",
       "    .dataframe thead th {\n",
       "        text-align: right;\n",
       "    }\n",
       "</style>\n",
       "<table border=\"1\" class=\"dataframe\">\n",
       "  <thead>\n",
       "    <tr style=\"text-align: right;\">\n",
       "      <th></th>\n",
       "      <th>Release Year</th>\n",
       "      <th>type</th>\n",
       "      <th>Total Content</th>\n",
       "    </tr>\n",
       "  </thead>\n",
       "  <tbody>\n",
       "    <tr>\n",
       "      <th>96</th>\n",
       "      <td>2010</td>\n",
       "      <td>TV Show</td>\n",
       "      <td>39</td>\n",
       "    </tr>\n",
       "    <tr>\n",
       "      <th>98</th>\n",
       "      <td>2011</td>\n",
       "      <td>TV Show</td>\n",
       "      <td>40</td>\n",
       "    </tr>\n",
       "    <tr>\n",
       "      <th>100</th>\n",
       "      <td>2012</td>\n",
       "      <td>TV Show</td>\n",
       "      <td>63</td>\n",
       "    </tr>\n",
       "    <tr>\n",
       "      <th>102</th>\n",
       "      <td>2013</td>\n",
       "      <td>TV Show</td>\n",
       "      <td>61</td>\n",
       "    </tr>\n",
       "    <tr>\n",
       "      <th>104</th>\n",
       "      <td>2014</td>\n",
       "      <td>TV Show</td>\n",
       "      <td>88</td>\n",
       "    </tr>\n",
       "    <tr>\n",
       "      <th>106</th>\n",
       "      <td>2015</td>\n",
       "      <td>TV Show</td>\n",
       "      <td>159</td>\n",
       "    </tr>\n",
       "    <tr>\n",
       "      <th>108</th>\n",
       "      <td>2016</td>\n",
       "      <td>TV Show</td>\n",
       "      <td>243</td>\n",
       "    </tr>\n",
       "    <tr>\n",
       "      <th>110</th>\n",
       "      <td>2017</td>\n",
       "      <td>TV Show</td>\n",
       "      <td>265</td>\n",
       "    </tr>\n",
       "    <tr>\n",
       "      <th>112</th>\n",
       "      <td>2018</td>\n",
       "      <td>TV Show</td>\n",
       "      <td>379</td>\n",
       "    </tr>\n",
       "    <tr>\n",
       "      <th>114</th>\n",
       "      <td>2019</td>\n",
       "      <td>TV Show</td>\n",
       "      <td>397</td>\n",
       "    </tr>\n",
       "    <tr>\n",
       "      <th>116</th>\n",
       "      <td>2020</td>\n",
       "      <td>TV Show</td>\n",
       "      <td>436</td>\n",
       "    </tr>\n",
       "    <tr>\n",
       "      <th>118</th>\n",
       "      <td>2021</td>\n",
       "      <td>TV Show</td>\n",
       "      <td>315</td>\n",
       "    </tr>\n",
       "  </tbody>\n",
       "</table>\n",
       "</div>"
      ],
      "text/plain": [
       "     Release Year     type  Total Content\n",
       "96           2010  TV Show             39\n",
       "98           2011  TV Show             40\n",
       "100          2012  TV Show             63\n",
       "102          2013  TV Show             61\n",
       "104          2014  TV Show             88\n",
       "106          2015  TV Show            159\n",
       "108          2016  TV Show            243\n",
       "110          2017  TV Show            265\n",
       "112          2018  TV Show            379\n",
       "114          2019  TV Show            397\n",
       "116          2020  TV Show            436\n",
       "118          2021  TV Show            315"
      ]
     },
     "execution_count": 29,
     "metadata": {},
     "output_type": "execute_result"
    }
   ],
   "source": [
    "dff4"
   ]
  },
  {
   "cell_type": "code",
   "execution_count": 33,
   "id": "fec1f6d5",
   "metadata": {},
   "outputs": [
    {
     "data": {
      "text/html": [
       "\n",
       "<script>\n",
       "    require.config({\n",
       "        paths: {\n",
       "            'chartXkcd':'https://cdn.jsdelivr.net/npm/chart.xkcd@1.1/dist/chart.xkcd.min'\n",
       "        }\n",
       "    });\n",
       "</script>\n",
       "\n",
       "<div id=\"4c4663c863ef446993831dead0600bb3\" class=\"chart-container\" style=\"width: 800px\">\n",
       "        <svg id=\"chart_4c4663c863ef446993831dead0600bb3\"></svg>\n",
       "    </div>\n",
       "    <script>\n",
       "        require(['chartXkcd'], function(chartXkcd) {\n",
       "            const svg_4c4663c863ef446993831dead0600bb3 = document.querySelector('#chart_4c4663c863ef446993831dead0600bb3')\n",
       "            const chart_4c4663c863ef446993831dead0600bb3 = new chartXkcd.Line(svg_4c4663c863ef446993831dead0600bb3, {\"title\": \"10 Years of compound interest\", \"data\": {\"datasets\": [{\"label\": \"Movie\", \"data\": [153, 145, 173, 225, 264, 396, 658, 765, 767, 633, 517, 277]}, {\"label\": \"TV Show\", \"data\": [39, 40, 63, 61, 88, 159, 243, 265, 379, 397, 436, 315]}], \"labels\": [2010, 2011, 2012, 2013, 2014, 2015, 2016, 2017, 2018, 2019, 2020, 2021]}, \"xLabel\": \"Year\", \"yLabel\": \"End Year Amount\", \"options\": {\"yTickCount\": 3, \"legendPosition\": 1}});\n",
       "        })\n",
       "    </script>\n"
      ],
      "text/plain": [
       "<cutecharts.render.engine.HTML at 0x1f290066280>"
      ]
     },
     "execution_count": 33,
     "metadata": {},
     "output_type": "execute_result"
    }
   ],
   "source": [
    "from cutecharts.charts import Line\n",
    "chart = Line('10 Years of compound interest')\n",
    "chart.set_options(\n",
    " labels=list(dff4['Release Year']), \n",
    " x_label='Year', \n",
    " y_label='End Year Amount',\n",
    ")\n",
    "chart.add_series('Movie', list(dff3['Total Content']))\n",
    "chart.add_series('TV Show', list(dff4['Total Content']))\n",
    "chart.render_notebook()\n",
    "from cutecharts.charts import Line\n",
    "chart = Line('10 Years of compound interest')\n",
    "chart.set_options(\n",
    " labels=list(dff4['Release Year']), \n",
    " x_label='Year', \n",
    " y_label='End Year Amount',\n",
    ")\n",
    "chart.add_series('Movie', list(dff3['Total Content']))\n",
    "chart.add_series('TV Show', list(dff4['Total Content']))\n",
    "chart.render_notebook()\n",
    "from cutecharts.charts import Line\n",
    "chart = Line('10 Years of compound interest')\n",
    "chart.set_options(\n",
    " labels=list(dff4['Release Year']), \n",
    " x_label='Year', \n",
    " y_label='End Year Amount',\n",
    ")\n",
    "chart.add_series('Movie', list(dff3['Total Content']))\n",
    "chart.add_series('TV Show', list(dff4['Total Content']))\n",
    "chart.render_notebook()"
   ]
  },
  {
   "cell_type": "code",
   "execution_count": 31,
   "id": "2b9f07a3",
   "metadata": {},
   "outputs": [
    {
     "ename": "TypeError",
     "evalue": "Object of type Series is not JSON serializable",
     "output_type": "error",
     "traceback": [
      "\u001b[1;31m---------------------------------------------------------------------------\u001b[0m",
      "\u001b[1;31mTypeError\u001b[0m                                 Traceback (most recent call last)",
      "\u001b[1;32m~\\AppData\\Local\\Temp\\ipykernel_15032\\2143834792.py\u001b[0m in \u001b[0;36m<module>\u001b[1;34m\u001b[0m\n\u001b[0;32m      4\u001b[0m \u001b[0mchart\u001b[0m\u001b[1;33m.\u001b[0m\u001b[0mset_options\u001b[0m\u001b[1;33m(\u001b[0m\u001b[0mlabels\u001b[0m\u001b[1;33m=\u001b[0m\u001b[0mlist\u001b[0m\u001b[1;33m(\u001b[0m\u001b[0mdirectors\u001b[0m\u001b[1;33m.\u001b[0m\u001b[0mdirector\u001b[0m\u001b[1;33m)\u001b[0m\u001b[1;33m,\u001b[0m\u001b[0mx_label\u001b[0m\u001b[1;33m=\u001b[0m\u001b[1;34m'Day'\u001b[0m\u001b[1;33m,\u001b[0m \u001b[0my_label\u001b[0m\u001b[1;33m=\u001b[0m\u001b[1;34m'Sales'\u001b[0m\u001b[1;33m)\u001b[0m\u001b[1;33m\u001b[0m\u001b[1;33m\u001b[0m\u001b[0m\n\u001b[0;32m      5\u001b[0m \u001b[0mchart\u001b[0m\u001b[1;33m.\u001b[0m\u001b[0madd_series\u001b[0m\u001b[1;33m(\u001b[0m\u001b[0mdff2\u001b[0m\u001b[1;33m[\u001b[0m\u001b[1;34m'Release Year'\u001b[0m\u001b[1;33m]\u001b[0m\u001b[1;33m,\u001b[0m \u001b[0mdff2\u001b[0m\u001b[1;33m[\u001b[0m\u001b[1;34m'Total Content'\u001b[0m\u001b[1;33m]\u001b[0m\u001b[1;33m)\u001b[0m\u001b[1;33m\u001b[0m\u001b[1;33m\u001b[0m\u001b[0m\n\u001b[1;32m----> 6\u001b[1;33m \u001b[0mchart\u001b[0m\u001b[1;33m.\u001b[0m\u001b[0mrender_notebook\u001b[0m\u001b[1;33m(\u001b[0m\u001b[1;33m)\u001b[0m\u001b[1;33m\u001b[0m\u001b[1;33m\u001b[0m\u001b[0m\n\u001b[0m",
      "\u001b[1;32m~\\anaconda3\\lib\\site-packages\\cutecharts\\render\\engine.py\u001b[0m in \u001b[0;36mrender_notebook\u001b[1;34m(self, template_type)\u001b[0m\n\u001b[0;32m    134\u001b[0m     \u001b[1;32mdef\u001b[0m \u001b[0mrender_notebook\u001b[0m\u001b[1;33m(\u001b[0m\u001b[0mself\u001b[0m\u001b[1;33m,\u001b[0m \u001b[0mtemplate_type\u001b[0m\u001b[1;33m:\u001b[0m \u001b[0mstr\u001b[0m \u001b[1;33m=\u001b[0m \u001b[1;34m\"basic\"\u001b[0m\u001b[1;33m)\u001b[0m\u001b[1;33m:\u001b[0m\u001b[1;33m\u001b[0m\u001b[1;33m\u001b[0m\u001b[0m\n\u001b[0;32m    135\u001b[0m         \u001b[1;32mif\u001b[0m \u001b[0mhasattr\u001b[0m\u001b[1;33m(\u001b[0m\u001b[0mself\u001b[0m\u001b[1;33m,\u001b[0m \u001b[1;34m\"before_render\"\u001b[0m\u001b[1;33m)\u001b[0m\u001b[1;33m:\u001b[0m\u001b[1;33m\u001b[0m\u001b[1;33m\u001b[0m\u001b[0m\n\u001b[1;32m--> 136\u001b[1;33m             \u001b[0mself\u001b[0m\u001b[1;33m.\u001b[0m\u001b[0mbefore_render\u001b[0m\u001b[1;33m(\u001b[0m\u001b[1;33m)\u001b[0m\u001b[1;33m\u001b[0m\u001b[1;33m\u001b[0m\u001b[0m\n\u001b[0m\u001b[0;32m    137\u001b[0m \u001b[1;33m\u001b[0m\u001b[0m\n\u001b[0;32m    138\u001b[0m         tmpl = CurrentConfig.GLOBAL_ENV.get_template(\n",
      "\u001b[1;32m~\\anaconda3\\lib\\site-packages\\cutecharts\\charts\\basic.py\u001b[0m in \u001b[0;36mbefore_render\u001b[1;34m(self)\u001b[0m\n\u001b[0;32m     33\u001b[0m         \u001b[0mself\u001b[0m\u001b[1;33m.\u001b[0m\u001b[0mchart_id\u001b[0m \u001b[1;33m=\u001b[0m \u001b[0muuid\u001b[0m\u001b[1;33m.\u001b[0m\u001b[0muuid4\u001b[0m\u001b[1;33m(\u001b[0m\u001b[1;33m)\u001b[0m\u001b[1;33m.\u001b[0m\u001b[0mhex\u001b[0m\u001b[1;33m\u001b[0m\u001b[1;33m\u001b[0m\u001b[0m\n\u001b[0;32m     34\u001b[0m         \u001b[0mself\u001b[0m\u001b[1;33m.\u001b[0m\u001b[0mopts\u001b[0m \u001b[1;33m=\u001b[0m \u001b[0mremove_key_with_none_value\u001b[0m\u001b[1;33m(\u001b[0m\u001b[0mself\u001b[0m\u001b[1;33m.\u001b[0m\u001b[0mopts\u001b[0m\u001b[1;33m)\u001b[0m\u001b[1;33m\u001b[0m\u001b[1;33m\u001b[0m\u001b[0m\n\u001b[1;32m---> 35\u001b[1;33m         \u001b[0mself\u001b[0m\u001b[1;33m.\u001b[0m\u001b[0mjson_content\u001b[0m \u001b[1;33m=\u001b[0m \u001b[0mjson\u001b[0m\u001b[1;33m.\u001b[0m\u001b[0mdumps\u001b[0m\u001b[1;33m(\u001b[0m\u001b[0mself\u001b[0m\u001b[1;33m.\u001b[0m\u001b[0mopts\u001b[0m\u001b[1;33m)\u001b[0m\u001b[1;33m\u001b[0m\u001b[1;33m\u001b[0m\u001b[0m\n\u001b[0m\u001b[0;32m     36\u001b[0m         \u001b[0mself\u001b[0m\u001b[1;33m.\u001b[0m\u001b[0mlocal_cfg\u001b[0m\u001b[1;33m,\u001b[0m \u001b[0mself\u001b[0m\u001b[1;33m.\u001b[0m\u001b[0mnotebook_cfg\u001b[0m \u001b[1;33m=\u001b[0m \u001b[0mself\u001b[0m\u001b[1;33m.\u001b[0m\u001b[0m_produce_assets_cfg\u001b[0m\u001b[1;33m(\u001b[0m\u001b[1;33m)\u001b[0m\u001b[1;33m\u001b[0m\u001b[1;33m\u001b[0m\u001b[0m\n\u001b[0;32m     37\u001b[0m \u001b[1;33m\u001b[0m\u001b[0m\n",
      "\u001b[1;32m~\\anaconda3\\lib\\json\\__init__.py\u001b[0m in \u001b[0;36mdumps\u001b[1;34m(obj, skipkeys, ensure_ascii, check_circular, allow_nan, cls, indent, separators, default, sort_keys, **kw)\u001b[0m\n\u001b[0;32m    229\u001b[0m         \u001b[0mcls\u001b[0m \u001b[1;32mis\u001b[0m \u001b[1;32mNone\u001b[0m \u001b[1;32mand\u001b[0m \u001b[0mindent\u001b[0m \u001b[1;32mis\u001b[0m \u001b[1;32mNone\u001b[0m \u001b[1;32mand\u001b[0m \u001b[0mseparators\u001b[0m \u001b[1;32mis\u001b[0m \u001b[1;32mNone\u001b[0m \u001b[1;32mand\u001b[0m\u001b[1;33m\u001b[0m\u001b[1;33m\u001b[0m\u001b[0m\n\u001b[0;32m    230\u001b[0m         default is None and not sort_keys and not kw):\n\u001b[1;32m--> 231\u001b[1;33m         \u001b[1;32mreturn\u001b[0m \u001b[0m_default_encoder\u001b[0m\u001b[1;33m.\u001b[0m\u001b[0mencode\u001b[0m\u001b[1;33m(\u001b[0m\u001b[0mobj\u001b[0m\u001b[1;33m)\u001b[0m\u001b[1;33m\u001b[0m\u001b[1;33m\u001b[0m\u001b[0m\n\u001b[0m\u001b[0;32m    232\u001b[0m     \u001b[1;32mif\u001b[0m \u001b[0mcls\u001b[0m \u001b[1;32mis\u001b[0m \u001b[1;32mNone\u001b[0m\u001b[1;33m:\u001b[0m\u001b[1;33m\u001b[0m\u001b[1;33m\u001b[0m\u001b[0m\n\u001b[0;32m    233\u001b[0m         \u001b[0mcls\u001b[0m \u001b[1;33m=\u001b[0m \u001b[0mJSONEncoder\u001b[0m\u001b[1;33m\u001b[0m\u001b[1;33m\u001b[0m\u001b[0m\n",
      "\u001b[1;32m~\\anaconda3\\lib\\json\\encoder.py\u001b[0m in \u001b[0;36mencode\u001b[1;34m(self, o)\u001b[0m\n\u001b[0;32m    197\u001b[0m         \u001b[1;31m# exceptions aren't as detailed.  The list call should be roughly\u001b[0m\u001b[1;33m\u001b[0m\u001b[1;33m\u001b[0m\u001b[0m\n\u001b[0;32m    198\u001b[0m         \u001b[1;31m# equivalent to the PySequence_Fast that ''.join() would do.\u001b[0m\u001b[1;33m\u001b[0m\u001b[1;33m\u001b[0m\u001b[0m\n\u001b[1;32m--> 199\u001b[1;33m         \u001b[0mchunks\u001b[0m \u001b[1;33m=\u001b[0m \u001b[0mself\u001b[0m\u001b[1;33m.\u001b[0m\u001b[0miterencode\u001b[0m\u001b[1;33m(\u001b[0m\u001b[0mo\u001b[0m\u001b[1;33m,\u001b[0m \u001b[0m_one_shot\u001b[0m\u001b[1;33m=\u001b[0m\u001b[1;32mTrue\u001b[0m\u001b[1;33m)\u001b[0m\u001b[1;33m\u001b[0m\u001b[1;33m\u001b[0m\u001b[0m\n\u001b[0m\u001b[0;32m    200\u001b[0m         \u001b[1;32mif\u001b[0m \u001b[1;32mnot\u001b[0m \u001b[0misinstance\u001b[0m\u001b[1;33m(\u001b[0m\u001b[0mchunks\u001b[0m\u001b[1;33m,\u001b[0m \u001b[1;33m(\u001b[0m\u001b[0mlist\u001b[0m\u001b[1;33m,\u001b[0m \u001b[0mtuple\u001b[0m\u001b[1;33m)\u001b[0m\u001b[1;33m)\u001b[0m\u001b[1;33m:\u001b[0m\u001b[1;33m\u001b[0m\u001b[1;33m\u001b[0m\u001b[0m\n\u001b[0;32m    201\u001b[0m             \u001b[0mchunks\u001b[0m \u001b[1;33m=\u001b[0m \u001b[0mlist\u001b[0m\u001b[1;33m(\u001b[0m\u001b[0mchunks\u001b[0m\u001b[1;33m)\u001b[0m\u001b[1;33m\u001b[0m\u001b[1;33m\u001b[0m\u001b[0m\n",
      "\u001b[1;32m~\\anaconda3\\lib\\json\\encoder.py\u001b[0m in \u001b[0;36miterencode\u001b[1;34m(self, o, _one_shot)\u001b[0m\n\u001b[0;32m    255\u001b[0m                 \u001b[0mself\u001b[0m\u001b[1;33m.\u001b[0m\u001b[0mkey_separator\u001b[0m\u001b[1;33m,\u001b[0m \u001b[0mself\u001b[0m\u001b[1;33m.\u001b[0m\u001b[0mitem_separator\u001b[0m\u001b[1;33m,\u001b[0m \u001b[0mself\u001b[0m\u001b[1;33m.\u001b[0m\u001b[0msort_keys\u001b[0m\u001b[1;33m,\u001b[0m\u001b[1;33m\u001b[0m\u001b[1;33m\u001b[0m\u001b[0m\n\u001b[0;32m    256\u001b[0m                 self.skipkeys, _one_shot)\n\u001b[1;32m--> 257\u001b[1;33m         \u001b[1;32mreturn\u001b[0m \u001b[0m_iterencode\u001b[0m\u001b[1;33m(\u001b[0m\u001b[0mo\u001b[0m\u001b[1;33m,\u001b[0m \u001b[1;36m0\u001b[0m\u001b[1;33m)\u001b[0m\u001b[1;33m\u001b[0m\u001b[1;33m\u001b[0m\u001b[0m\n\u001b[0m\u001b[0;32m    258\u001b[0m \u001b[1;33m\u001b[0m\u001b[0m\n\u001b[0;32m    259\u001b[0m def _make_iterencode(markers, _default, _encoder, _indent, _floatstr,\n",
      "\u001b[1;32m~\\anaconda3\\lib\\json\\encoder.py\u001b[0m in \u001b[0;36mdefault\u001b[1;34m(self, o)\u001b[0m\n\u001b[0;32m    177\u001b[0m \u001b[1;33m\u001b[0m\u001b[0m\n\u001b[0;32m    178\u001b[0m         \"\"\"\n\u001b[1;32m--> 179\u001b[1;33m         raise TypeError(f'Object of type {o.__class__.__name__} '\n\u001b[0m\u001b[0;32m    180\u001b[0m                         f'is not JSON serializable')\n\u001b[0;32m    181\u001b[0m \u001b[1;33m\u001b[0m\u001b[0m\n",
      "\u001b[1;31mTypeError\u001b[0m: Object of type Series is not JSON serializable"
     ]
    }
   ],
   "source": [
    "# Create a line chart\n",
    "from cutecharts.charts import Line\n",
    "chart = Line('Sales Trend', width='100%', height=500)\n",
    "chart.set_options(labels=list(directors.director),x_label='Day', y_label='Sales')\n",
    "chart.add_series(dff2['Release Year'], dff2['Total Content'])\n",
    "chart.render_notebook()"
   ]
  },
  {
   "cell_type": "code",
   "execution_count": null,
   "id": "8185bbe0",
   "metadata": {},
   "outputs": [],
   "source": [
    "colors=['#FFF1C9', '#F7B7A3', '#EA5F89', '#9B3192', '#57167E', '#47B39C','#00529B']\n",
    "\n",
    "chart = ctc.Line('Top Five Director', width='600px', height='200px')\n",
    "\n",
    "chart.set_options(labels=list(dff2['Release Year']),x_label='Director',y_label='Number of Movie', colors=Faker.colors)\n",
    "\n",
    "chart.add_series('type',list(dff2['Total Content']))\n",
    "\n",
    "chart.render_notebook()"
   ]
  },
  {
   "cell_type": "code",
   "execution_count": null,
   "id": "cfa7a6f2",
   "metadata": {},
   "outputs": [],
   "source": [
    "# line chart\n",
    "line = ctc.Line('Growth in Content over the Years',\n",
    "                width='720px',height='720px')\n",
    "\n",
    "# set the chart options\n",
    "line.set_options(labels=list(content.index),\n",
    "                 x_label='Years',\n",
    "                 y_label='Count',\n",
    "                 colors=['#ee333c'])\n",
    "line.add_series('No: of releases', list(content['count']))\n",
    "\n",
    "# display the chart\n",
    "line.render_notebook()"
   ]
  },
  {
   "cell_type": "code",
   "execution_count": null,
   "id": "b889a707",
   "metadata": {},
   "outputs": [],
   "source": [
    "plt.plot(df['LOCAL_DATE'], df['MEAN_TEMPERATURE'], color='grey')\n",
    "plt.plot(df['LOCAL_DATE'], df['MIN_TEMPERATURE'], color='blue')\n",
    "plt.title('Toronto Temperature in 2020', fontsize=18)\n",
    "plt.xlabel('Date', fontsize=12)\n",
    "plt.ylabel('Temperature', fontsize=12)\n",
    "plt.grid(True)\n",
    "plt.show()"
   ]
  },
  {
   "cell_type": "markdown",
   "id": "abb1060f",
   "metadata": {},
   "source": [
    "# Movie ratings analysis"
   ]
  },
  {
   "cell_type": "code",
   "execution_count": null,
   "id": "b0da0fae",
   "metadata": {},
   "outputs": [],
   "source": [
    "plt.figure(figsize=(12,10))\n",
    "sns.set(style=\"darkgrid\")\n",
    "ax = sns.countplot(x=\"rating\", data=netflix_movies, palette=\"Set2\", order=netflix_movies['rating'].value_counts().index[0:15])"
   ]
  },
  {
   "cell_type": "code",
   "execution_count": null,
   "id": "d2d9811f",
   "metadata": {},
   "outputs": [],
   "source": [
    "# Countries with highest rated content.\n",
    "\n",
    "country_count=joint_data['country'].value_counts().sort_values(ascending=False)\n",
    "country_count=pd.DataFrame(country_count)\n",
    "topcountries=country_count[0:11]\n",
    "topcountries"
   ]
  },
  {
   "cell_type": "markdown",
   "id": "3c2efae0",
   "metadata": {},
   "source": [
    "# Year wise analysis"
   ]
  },
  {
   "cell_type": "code",
   "execution_count": null,
   "id": "cbba335b",
   "metadata": {},
   "outputs": [],
   "source": [
    "plt.figure(figsize=(12,10))\n",
    "sns.set(style=\"darkgrid\")\n",
    "ax = sns.countplot(y=\"release_year\", \n",
    "                   data=netflix_movies, palette=\"Set2\", \n",
    "                   order=netflix_movies['release_year'].value_counts().index[0:15])"
   ]
  },
  {
   "cell_type": "markdown",
   "id": "dc6d95c7",
   "metadata": {},
   "source": [
    "# Lollipop plot of Genres vs their count on Netflix"
   ]
  },
  {
   "cell_type": "code",
   "execution_count": null,
   "id": "d04d0c30",
   "metadata": {},
   "outputs": [],
   "source": []
  },
  {
   "cell_type": "code",
   "execution_count": null,
   "id": "30db768e",
   "metadata": {},
   "outputs": [],
   "source": []
  },
  {
   "cell_type": "code",
   "execution_count": null,
   "id": "005a56e7",
   "metadata": {},
   "outputs": [],
   "source": []
  },
  {
   "cell_type": "code",
   "execution_count": null,
   "id": "d0dd1c16",
   "metadata": {},
   "outputs": [],
   "source": [
    "import warnings\n",
    "warnings.filterwarnings('ignore')"
   ]
  },
  {
   "cell_type": "code",
   "execution_count": null,
   "id": "107de2ba",
   "metadata": {},
   "outputs": [],
   "source": [
    "features=['title','duration']\n",
    "durations= data[features]\n",
    "print(durations)"
   ]
  },
  {
   "cell_type": "code",
   "execution_count": null,
   "id": "c06755ad",
   "metadata": {},
   "outputs": [],
   "source": [
    "durations['no_of_seasons']=durations['duration'].str.replace(' Season','')\n",
    "print(durations)\n"
   ]
  },
  {
   "cell_type": "code",
   "execution_count": null,
   "id": "fbdf3181",
   "metadata": {},
   "outputs": [],
   "source": [
    "#durations['no_of_seasons']=durations['no_of_seasons'].astype(str).astype(int)\n",
    "durations['no_of_seasons']=durations['no_of_seasons'].str.replace('s','')\n",
    "print(durations)"
   ]
  },
  {
   "cell_type": "code",
   "execution_count": null,
   "id": "fbd17242",
   "metadata": {},
   "outputs": [],
   "source": [
    "nos= durations[durations['no_of_seasons']]\n",
    "nos"
   ]
  },
  {
   "cell_type": "code",
   "execution_count": null,
   "id": "ef1d8541",
   "metadata": {},
   "outputs": [],
   "source": [
    "durations['no_of_seasons']=durations['no_of_seasons'].astype(str).astype(int)"
   ]
  },
  {
   "cell_type": "code",
   "execution_count": null,
   "id": "b0ae5ef6",
   "metadata": {},
   "outputs": [],
   "source": [
    "t=['title','no_of_seasons']\n",
    "top=durations[t]\n",
    "\n",
    "top=top.sort_values(by='no_of_seasons', ascending=False)"
   ]
  },
  {
   "cell_type": "code",
   "execution_count": null,
   "id": "ca8bbf64",
   "metadata": {},
   "outputs": [],
   "source": [
    "top20=top[0:20]\n",
    "top20.plot(kind='bar',x='title',y='no_of_seasons', color='red')"
   ]
  },
  {
   "cell_type": "code",
   "execution_count": null,
   "id": "e5662bd0",
   "metadata": {},
   "outputs": [],
   "source": [
    "data.head()"
   ]
  },
  {
   "cell_type": "code",
   "execution_count": null,
   "id": "3f183b0b",
   "metadata": {},
   "outputs": [],
   "source": [
    "data['country'].value_counts()"
   ]
  },
  {
   "cell_type": "markdown",
   "id": "541195e8",
   "metadata": {},
   "source": [
    "# Which Country release  movie "
   ]
  },
  {
   "cell_type": "code",
   "execution_count": null,
   "id": "4ec3cc6a",
   "metadata": {},
   "outputs": [],
   "source": [
    "features=['country','type']\n",
    "split_country= data[features]\n",
    "print(split_country)"
   ]
  },
  {
   "cell_type": "code",
   "execution_count": null,
   "id": "57e30a51",
   "metadata": {},
   "outputs": [],
   "source": [
    "split_country['aaa']=split_country['country'].str.replace(' United States','United States')"
   ]
  },
  {
   "cell_type": "code",
   "execution_count": null,
   "id": "17a2cf88",
   "metadata": {},
   "outputs": [],
   "source": [
    "split_country"
   ]
  },
  {
   "cell_type": "code",
   "execution_count": null,
   "id": "48ddcd19",
   "metadata": {},
   "outputs": [],
   "source": [
    "split_country['x'] = data['country'].str.split(',',expand=True).stack()\n",
    "# split_country = split_country.value_counts()\n",
    "split_country.head(50)"
   ]
  },
  {
   "cell_type": "code",
   "execution_count": null,
   "id": "d64e9114",
   "metadata": {},
   "outputs": [],
   "source": [
    "split_country.value_counts()"
   ]
  },
  {
   "cell_type": "code",
   "execution_count": null,
   "id": "edd2d7c4",
   "metadata": {},
   "outputs": [],
   "source": []
  },
  {
   "cell_type": "code",
   "execution_count": null,
   "id": "50c14095",
   "metadata": {},
   "outputs": [],
   "source": [
    "print(durations)\n",
    "\n",
    "split_country = split_country.value_counts()\n"
   ]
  },
  {
   "cell_type": "code",
   "execution_count": null,
   "id": "cd852c67",
   "metadata": {},
   "outputs": [],
   "source": [
    "split_country= pd.DataFrame(split_country)\n",
    "split_country.columns = ['split_country']\n",
    "split_country = fil_directors.groupby(['director']).size().reset_index(name='counts')\n",
    "directors = directors.sort_values(by='counts',ascending=False)\n",
    "directors = directors[directors['director'] != 'No Director']\n",
    "# directors = directors.head(11)\n",
    "# directors"
   ]
  },
  {
   "cell_type": "code",
   "execution_count": null,
   "id": "54ecd40a",
   "metadata": {},
   "outputs": [],
   "source": [
    "directors = directors.head(11)\n",
    "directors"
   ]
  },
  {
   "cell_type": "code",
   "execution_count": null,
   "id": "1e3e380a",
   "metadata": {},
   "outputs": [],
   "source": [
    "us_series_data=data[data['country']=='United States']\n",
    "us_series_data = us_series_data[us_series_data['type']=='Movie']\n",
    "us_series_data.head()"
   ]
  },
  {
   "cell_type": "code",
   "execution_count": null,
   "id": "9145240f",
   "metadata": {},
   "outputs": [],
   "source": [
    "a = us_series_data.groupby(['rating']).size().reset_index(name='counts')"
   ]
  },
  {
   "cell_type": "code",
   "execution_count": null,
   "id": "c652f487",
   "metadata": {},
   "outputs": [],
   "source": [
    "type"
   ]
  },
  {
   "cell_type": "code",
   "execution_count": null,
   "id": "0e49630e",
   "metadata": {},
   "outputs": [],
   "source": []
  },
  {
   "cell_type": "code",
   "execution_count": null,
   "id": "ea66d6d4",
   "metadata": {},
   "outputs": [],
   "source": []
  },
  {
   "cell_type": "code",
   "execution_count": null,
   "id": "258aae39",
   "metadata": {},
   "outputs": [],
   "source": []
  },
  {
   "cell_type": "code",
   "execution_count": null,
   "id": "77ec6158",
   "metadata": {},
   "outputs": [],
   "source": []
  },
  {
   "cell_type": "code",
   "execution_count": null,
   "id": "490af497",
   "metadata": {},
   "outputs": [],
   "source": []
  },
  {
   "cell_type": "markdown",
   "id": "b84e025e",
   "metadata": {},
   "source": [
    "<div style=\"border-radius:10px; border:maroon; padding: 15px; background-color: #E6CCE6; font-size:110%; text-align:left\">\n",
    "\n",
    "<h3 align=\"left\"><font color='purple'>Conclusion:</font></h3>\n",
    "\n",
    "* Since most of the ‍‍`Cabin` data is missing in both training and test datasets, this feature will not bring much information to the model and its imputation will bring a lot of noise. Therefore, we __remove `Cabin` from both datasets__.\n",
    "* We fill in `Age`, `Embarked` and `Fare` missing values using different __imputation methods__.   "
   ]
  },
  {
   "cell_type": "code",
   "execution_count": null,
   "id": "41de1713",
   "metadata": {},
   "outputs": [],
   "source": [
    "insight"
   ]
  },
  {
   "cell_type": "code",
   "execution_count": null,
   "id": "3dad5c7e",
   "metadata": {},
   "outputs": [],
   "source": [
    "https://www.kaggle.com/code/niharika41298/netflix-visualizations-recommendation-eda\n",
    " https://towardsdatascience.com/make-the-cutest-chart-in-python-visualize-your-data-with-hand-drawn-charts-f21157f76b4b"
   ]
  }
 ],
 "metadata": {
  "kernelspec": {
   "display_name": "Python 3 (ipykernel)",
   "language": "python",
   "name": "python3"
  },
  "language_info": {
   "codemirror_mode": {
    "name": "ipython",
    "version": 3
   },
   "file_extension": ".py",
   "mimetype": "text/x-python",
   "name": "python",
   "nbconvert_exporter": "python",
   "pygments_lexer": "ipython3",
   "version": "3.9.13"
  }
 },
 "nbformat": 4,
 "nbformat_minor": 5
}
